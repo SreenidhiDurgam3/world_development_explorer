{
  "cells": [
    {
      "cell_type": "code",
      "metadata": {
        "tags": [],
        "cell_id": "00000-90a52d29-329e-4912-9ab6-c83af3465568",
        "deepnote_to_be_reexecuted": false,
        "source_hash": "16b4ab5b",
        "execution_millis": 3627,
        "execution_start": 1617746284724,
        "deepnote_cell_type": "code"
      },
      "source": "!pip install plotly --upgrade",
      "execution_count": 1,
      "outputs": [
        {
          "name": "stdout",
          "text": "Requirement already up-to-date: plotly in /shared-libs/python3.7/py/lib/python3.7/site-packages (4.14.3)\nRequirement already satisfied, skipping upgrade: six in /shared-libs/python3.7/py-core/lib/python3.7/site-packages (from plotly) (1.15.0)\nRequirement already satisfied, skipping upgrade: retrying>=1.3.3 in /shared-libs/python3.7/py/lib/python3.7/site-packages (from plotly) (1.3.3)\n\u001b[33mWARNING: You are using pip version 20.1.1; however, version 21.0.1 is available.\nYou should consider upgrading via the '/root/venv/bin/python -m pip install --upgrade pip' command.\u001b[0m\n",
          "output_type": "stream"
        }
      ]
    },
    {
      "cell_type": "markdown",
      "source": "                                           **Individual Project Part B**\n\n<!-- <p align=\"center\">\n  <img width=\"500\" height =\"300\" src=\"https://github.com/SreenidhiDurgam3/DATA-690-WANG/blob/main/world_development_explorer/charts/Picture1.png\">\n</p> -->\n\n[**https://datatopics.worldbank.org/world-development-indicators/**](https://datatopics.worldbank.org/world-development-indicators/) **-** I had a skim through the webpage and really liked the UI and the way they are presenting open source data along with data indicators understanding and data types , time , location information. The best part of this webpage is[http://www.worlddev.xyz/](http://www.worlddev.xyz/) - where we can actually visualize the data on cloud and without any third party tool like python, R and tableau we can do actual visualizations and analyze this data – I loved the way this website is built and I really appreciate this and thanks to Chaoji Wang for sharing this webpage with us – I am very sure most of us would use this open source data in many future projects and for our career development establishment.\n\n<!-- <p align=\"center\">\n  <img width=\"500\" height =\"300\" src=\"https://github.com/SreenidhiDurgam3/DATA-690-WANG/blob/main/world_development_explorer/charts/Picture2.png\">\n</p>\n\n<p align=\"center\">\n  <img width=\"500\" height =\"300\" src=\"https://github.com/SreenidhiDurgam3/DATA-690-WANG/blob/main/world_development_explorer/charts/Picture3.png\">\n</p>\n<p align=\"center\">\n  <img width=\"500\" height =\"300\" src=\"https://github.com/SreenidhiDurgam3/DATA-690-WANG/blob/main/world_development_explorer/charts/Picture4.png\">\n</p>\n\n<p align=\"center\">\n  <img width=\"500\" height =\"300\" src=\"https://github.com/SreenidhiDurgam3/DATA-690-WANG/blob/main/world_development_explorer/charts/Picture5.png\">\n</p> -->\n\n**After a deep analysis of these indicators :**\n\n- Questions I encountered in my mind :\n  - Is the Literacy rate dependent on GDP total ?\n  - Is the children employment going to affect the literacy rate ?\n  - Is school enrollment GPI proportional to a country&#39;s GDP ?\n  - How does alcohol consumption per capita have an affect on GDP and is it relevant to Literacy rate ?\n- Major Data Sources to answer my questions :\n  - Social Development Indicator had most of the data necessary such as,\n    - Children Employment\n    - Literacy rate\n  - Health Data indicators had :\n    - Alcohol consumption per capita\n    - Population, Total\n  - Economy and Growth had:\n    - GDP ,PPP %\n- Steps I used to analyze these situations:\n  - A bubble chart – This helped me better understand the situations and find the data pattern/trend\n  - A Bar chart – Helps me provide relationships and understand dependencies between the indicators I chose\n  - A scatter plot – Helps me find any outliers (if any)",
      "metadata": {
        "tags": [],
        "cell_id": "00001-b9f058a9-7695-460a-92b9-fe1862f63290",
        "deepnote_cell_type": "markdown"
      }
    },
    {
      "cell_type": "markdown",
      "source": "",
      "metadata": {
        "tags": [],
        "cell_id": "00001-74931e60-30f8-48bc-9b5a-694e163788fc",
        "deepnote_cell_type": "markdown"
      }
    },
    {
      "cell_type": "markdown",
      "source": "**Importing required packages and storing the data in data frame**",
      "metadata": {
        "tags": [],
        "cell_id": "00004-770c1cd0-1920-462e-bcb0-a6128ac14d00",
        "deepnote_cell_type": "markdown"
      }
    },
    {
      "cell_type": "code",
      "metadata": {
        "tags": [],
        "cell_id": "00000-3856514e-485f-4d35-ad72-ce6850acfc0d",
        "deepnote_to_be_reexecuted": false,
        "source_hash": "abb86be7",
        "execution_millis": 1371,
        "execution_start": 1617746288355,
        "deepnote_cell_type": "code"
      },
      "source": "import pandas as pd\nimport matplotlib.pyplot as plt\nimport seaborn as sns\nimport plotly.express as px\ndf=pd.read_csv('wdi_data.csv')\ndf.head()",
      "execution_count": 2,
      "outputs": [
        {
          "output_type": "execute_result",
          "execution_count": 2,
          "data": {
            "application/vnd.deepnote.dataframe.v2+json": {
              "row_count": 5,
              "column_count": 10,
              "columns": [
                {
                  "name": "Unnamed: 0",
                  "dtype": "int64",
                  "stats": {
                    "unique_count": 5,
                    "nan_count": 0,
                    "min": 0,
                    "max": 4,
                    "histogram": [
                      {
                        "bin_start": 0,
                        "bin_end": 0.4,
                        "count": 1
                      },
                      {
                        "bin_start": 0.4,
                        "bin_end": 0.8,
                        "count": 0
                      },
                      {
                        "bin_start": 0.8,
                        "bin_end": 1.2000000000000002,
                        "count": 1
                      },
                      {
                        "bin_start": 1.2000000000000002,
                        "bin_end": 1.6,
                        "count": 0
                      },
                      {
                        "bin_start": 1.6,
                        "bin_end": 2,
                        "count": 0
                      },
                      {
                        "bin_start": 2,
                        "bin_end": 2.4000000000000004,
                        "count": 1
                      },
                      {
                        "bin_start": 2.4000000000000004,
                        "bin_end": 2.8000000000000003,
                        "count": 0
                      },
                      {
                        "bin_start": 2.8000000000000003,
                        "bin_end": 3.2,
                        "count": 1
                      },
                      {
                        "bin_start": 3.2,
                        "bin_end": 3.6,
                        "count": 0
                      },
                      {
                        "bin_start": 3.6,
                        "bin_end": 4,
                        "count": 1
                      }
                    ]
                  }
                },
                {
                  "name": "Year",
                  "dtype": "int64",
                  "stats": {
                    "unique_count": 3,
                    "nan_count": 0,
                    "min": 2010,
                    "max": 2018,
                    "histogram": [
                      {
                        "bin_start": 2010,
                        "bin_end": 2010.8,
                        "count": 1
                      },
                      {
                        "bin_start": 2010.8,
                        "bin_end": 2011.6,
                        "count": 0
                      },
                      {
                        "bin_start": 2011.6,
                        "bin_end": 2012.4,
                        "count": 0
                      },
                      {
                        "bin_start": 2012.4,
                        "bin_end": 2013.2,
                        "count": 0
                      },
                      {
                        "bin_start": 2013.2,
                        "bin_end": 2014,
                        "count": 0
                      },
                      {
                        "bin_start": 2014,
                        "bin_end": 2014.8,
                        "count": 0
                      },
                      {
                        "bin_start": 2014.8,
                        "bin_end": 2015.6,
                        "count": 1
                      },
                      {
                        "bin_start": 2015.6,
                        "bin_end": 2016.4,
                        "count": 0
                      },
                      {
                        "bin_start": 2016.4,
                        "bin_end": 2017.2,
                        "count": 0
                      },
                      {
                        "bin_start": 2017.2,
                        "bin_end": 2018,
                        "count": 3
                      }
                    ]
                  }
                },
                {
                  "name": "SE.ADT.1524.LT.FM.ZS",
                  "dtype": "float64",
                  "stats": {
                    "unique_count": 5,
                    "nan_count": 0,
                    "min": 0.9965000153,
                    "max": 1.0058200359,
                    "histogram": [
                      {
                        "bin_start": 0.9965000153,
                        "bin_end": 0.99743201736,
                        "count": 1
                      },
                      {
                        "bin_start": 0.99743201736,
                        "bin_end": 0.99836401942,
                        "count": 0
                      },
                      {
                        "bin_start": 0.99836401942,
                        "bin_end": 0.99929602148,
                        "count": 0
                      },
                      {
                        "bin_start": 0.99929602148,
                        "bin_end": 1.00022802354,
                        "count": 0
                      },
                      {
                        "bin_start": 1.00022802354,
                        "bin_end": 1.0011600256,
                        "count": 0
                      },
                      {
                        "bin_start": 1.0011600256,
                        "bin_end": 1.00209202766,
                        "count": 1
                      },
                      {
                        "bin_start": 1.00209202766,
                        "bin_end": 1.00302402972,
                        "count": 0
                      },
                      {
                        "bin_start": 1.00302402972,
                        "bin_end": 1.00395603178,
                        "count": 0
                      },
                      {
                        "bin_start": 1.00395603178,
                        "bin_end": 1.00488803384,
                        "count": 0
                      },
                      {
                        "bin_start": 1.00488803384,
                        "bin_end": 1.0058200359,
                        "count": 3
                      }
                    ]
                  }
                },
                {
                  "name": "NY.GDP.PCAP.PP.CD",
                  "dtype": "float64",
                  "stats": {
                    "unique_count": 5,
                    "nan_count": 0,
                    "min": 11925.7985636431,
                    "max": 23313.8179401811,
                    "histogram": [
                      {
                        "bin_start": 11925.7985636431,
                        "bin_end": 13064.6005012969,
                        "count": 1
                      },
                      {
                        "bin_start": 13064.6005012969,
                        "bin_end": 14203.4024389507,
                        "count": 1
                      },
                      {
                        "bin_start": 14203.4024389507,
                        "bin_end": 15342.2043766045,
                        "count": 0
                      },
                      {
                        "bin_start": 15342.2043766045,
                        "bin_end": 16481.006314258302,
                        "count": 0
                      },
                      {
                        "bin_start": 16481.006314258302,
                        "bin_end": 17619.8082519121,
                        "count": 0
                      },
                      {
                        "bin_start": 17619.8082519121,
                        "bin_end": 18758.6101895659,
                        "count": 1
                      },
                      {
                        "bin_start": 18758.6101895659,
                        "bin_end": 19897.4121272197,
                        "count": 0
                      },
                      {
                        "bin_start": 19897.4121272197,
                        "bin_end": 21036.2140648735,
                        "count": 1
                      },
                      {
                        "bin_start": 21036.2140648735,
                        "bin_end": 22175.0160025273,
                        "count": 0
                      },
                      {
                        "bin_start": 22175.0160025273,
                        "bin_end": 23313.8179401811,
                        "count": 1
                      }
                    ]
                  }
                },
                {
                  "name": "SH.ALC.PCAP.LI",
                  "dtype": "float64",
                  "stats": {
                    "unique_count": 5,
                    "nan_count": 0,
                    "min": 0.95,
                    "max": 9.65,
                    "histogram": [
                      {
                        "bin_start": 0.95,
                        "bin_end": 1.82,
                        "count": 1
                      },
                      {
                        "bin_start": 1.82,
                        "bin_end": 2.6900000000000004,
                        "count": 0
                      },
                      {
                        "bin_start": 2.6900000000000004,
                        "bin_end": 3.5600000000000005,
                        "count": 0
                      },
                      {
                        "bin_start": 3.5600000000000005,
                        "bin_end": 4.430000000000001,
                        "count": 0
                      },
                      {
                        "bin_start": 4.430000000000001,
                        "bin_end": 5.300000000000001,
                        "count": 0
                      },
                      {
                        "bin_start": 5.300000000000001,
                        "bin_end": 6.170000000000001,
                        "count": 0
                      },
                      {
                        "bin_start": 6.170000000000001,
                        "bin_end": 7.040000000000001,
                        "count": 0
                      },
                      {
                        "bin_start": 7.040000000000001,
                        "bin_end": 7.910000000000001,
                        "count": 1
                      },
                      {
                        "bin_start": 7.910000000000001,
                        "bin_end": 8.780000000000001,
                        "count": 0
                      },
                      {
                        "bin_start": 8.780000000000001,
                        "bin_end": 9.65,
                        "count": 3
                      }
                    ]
                  }
                },
                {
                  "name": "Country Code",
                  "dtype": "object",
                  "stats": {
                    "unique_count": 3,
                    "nan_count": 0,
                    "categories": [
                      {
                        "name": "ARG",
                        "count": 3
                      },
                      {
                        "name": "ALB",
                        "count": 1
                      },
                      {
                        "name": "DZA",
                        "count": 1
                      }
                    ]
                  }
                },
                {
                  "name": "Country Name",
                  "dtype": "object",
                  "stats": {
                    "unique_count": 3,
                    "nan_count": 0,
                    "categories": [
                      {
                        "name": "Argentina",
                        "count": 3
                      },
                      {
                        "name": "Albania",
                        "count": 1
                      },
                      {
                        "name": "Algeria",
                        "count": 1
                      }
                    ]
                  }
                },
                {
                  "name": "Region",
                  "dtype": "object",
                  "stats": {
                    "unique_count": 3,
                    "nan_count": 0,
                    "categories": [
                      {
                        "name": "Latin America & Caribbean ",
                        "count": 3
                      },
                      {
                        "name": "Europe & Central Asia",
                        "count": 1
                      },
                      {
                        "name": "Middle East & North Africa",
                        "count": 1
                      }
                    ]
                  }
                },
                {
                  "name": "Income Group",
                  "dtype": "object",
                  "stats": {
                    "unique_count": 2,
                    "nan_count": 0,
                    "categories": [
                      {
                        "name": "Upper middle income",
                        "count": 4
                      },
                      {
                        "name": "Lower middle income",
                        "count": 1
                      }
                    ]
                  }
                },
                {
                  "name": "Lending Type",
                  "dtype": "object",
                  "stats": {
                    "unique_count": 1,
                    "nan_count": 0,
                    "categories": [
                      {
                        "name": "IBRD",
                        "count": 5
                      }
                    ]
                  }
                },
                {
                  "name": "_deepnote_index_column",
                  "dtype": "int64"
                }
              ],
              "rows_top": [
                {
                  "Unnamed: 0": 0,
                  "Year": 2018,
                  "SE.ADT.1524.LT.FM.ZS": 1.0058200359,
                  "NY.GDP.PCAP.PP.CD": 13974.0116065658,
                  "SH.ALC.PCAP.LI": 7.17,
                  "Country Code": "ALB",
                  "Country Name": "Albania",
                  "Region": "Europe & Central Asia",
                  "Income Group": "Upper middle income",
                  "Lending Type": "IBRD",
                  "_deepnote_index_column": 0
                },
                {
                  "Unnamed: 0": 1,
                  "Year": 2018,
                  "SE.ADT.1524.LT.FM.ZS": 0.9965000153,
                  "NY.GDP.PCAP.PP.CD": 11925.7985636431,
                  "SH.ALC.PCAP.LI": 0.95,
                  "Country Code": "DZA",
                  "Country Name": "Algeria",
                  "Region": "Middle East & North Africa",
                  "Income Group": "Lower middle income",
                  "Lending Type": "IBRD",
                  "_deepnote_index_column": 1
                },
                {
                  "Unnamed: 0": 2,
                  "Year": 2010,
                  "SE.ADT.1524.LT.FM.ZS": 1.0057899952,
                  "NY.GDP.PCAP.PP.CD": 18061.9343588337,
                  "SH.ALC.PCAP.LI": 9.09,
                  "Country Code": "ARG",
                  "Country Name": "Argentina",
                  "Region": "Latin America & Caribbean ",
                  "Income Group": "Upper middle income",
                  "Lending Type": "IBRD",
                  "_deepnote_index_column": 2
                },
                {
                  "Unnamed: 0": 3,
                  "Year": 2015,
                  "SE.ADT.1524.LT.FM.ZS": 1.0016100407,
                  "NY.GDP.PCAP.PP.CD": 20105.1989918165,
                  "SH.ALC.PCAP.LI": 9.55,
                  "Country Code": "ARG",
                  "Country Name": "Argentina",
                  "Region": "Latin America & Caribbean ",
                  "Income Group": "Upper middle income",
                  "Lending Type": "IBRD",
                  "_deepnote_index_column": 3
                },
                {
                  "Unnamed: 0": 4,
                  "Year": 2018,
                  "SE.ADT.1524.LT.FM.ZS": 1.0051699877,
                  "NY.GDP.PCAP.PP.CD": 23313.8179401811,
                  "SH.ALC.PCAP.LI": 9.65,
                  "Country Code": "ARG",
                  "Country Name": "Argentina",
                  "Region": "Latin America & Caribbean ",
                  "Income Group": "Upper middle income",
                  "Lending Type": "IBRD",
                  "_deepnote_index_column": 4
                }
              ],
              "rows_bottom": null
            },
            "text/plain": "   Unnamed: 0  Year  SE.ADT.1524.LT.FM.ZS  NY.GDP.PCAP.PP.CD  SH.ALC.PCAP.LI  \\\n0           0  2018               1.00582       13974.011607            7.17   \n1           1  2018               0.99650       11925.798564            0.95   \n2           2  2010               1.00579       18061.934359            9.09   \n3           3  2015               1.00161       20105.198992            9.55   \n4           4  2018               1.00517       23313.817940            9.65   \n\n  Country Code Country Name                      Region         Income Group  \\\n0          ALB      Albania       Europe & Central Asia  Upper middle income   \n1          DZA      Algeria  Middle East & North Africa  Lower middle income   \n2          ARG    Argentina  Latin America & Caribbean   Upper middle income   \n3          ARG    Argentina  Latin America & Caribbean   Upper middle income   \n4          ARG    Argentina  Latin America & Caribbean   Upper middle income   \n\n  Lending Type  \n0         IBRD  \n1         IBRD  \n2         IBRD  \n3         IBRD  \n4         IBRD  ",
            "text/html": "<div>\n<style scoped>\n    .dataframe tbody tr th:only-of-type {\n        vertical-align: middle;\n    }\n\n    .dataframe tbody tr th {\n        vertical-align: top;\n    }\n\n    .dataframe thead th {\n        text-align: right;\n    }\n</style>\n<table border=\"1\" class=\"dataframe\">\n  <thead>\n    <tr style=\"text-align: right;\">\n      <th></th>\n      <th>Unnamed: 0</th>\n      <th>Year</th>\n      <th>SE.ADT.1524.LT.FM.ZS</th>\n      <th>NY.GDP.PCAP.PP.CD</th>\n      <th>SH.ALC.PCAP.LI</th>\n      <th>Country Code</th>\n      <th>Country Name</th>\n      <th>Region</th>\n      <th>Income Group</th>\n      <th>Lending Type</th>\n    </tr>\n  </thead>\n  <tbody>\n    <tr>\n      <th>0</th>\n      <td>0</td>\n      <td>2018</td>\n      <td>1.00582</td>\n      <td>13974.011607</td>\n      <td>7.17</td>\n      <td>ALB</td>\n      <td>Albania</td>\n      <td>Europe &amp; Central Asia</td>\n      <td>Upper middle income</td>\n      <td>IBRD</td>\n    </tr>\n    <tr>\n      <th>1</th>\n      <td>1</td>\n      <td>2018</td>\n      <td>0.99650</td>\n      <td>11925.798564</td>\n      <td>0.95</td>\n      <td>DZA</td>\n      <td>Algeria</td>\n      <td>Middle East &amp; North Africa</td>\n      <td>Lower middle income</td>\n      <td>IBRD</td>\n    </tr>\n    <tr>\n      <th>2</th>\n      <td>2</td>\n      <td>2010</td>\n      <td>1.00579</td>\n      <td>18061.934359</td>\n      <td>9.09</td>\n      <td>ARG</td>\n      <td>Argentina</td>\n      <td>Latin America &amp; Caribbean</td>\n      <td>Upper middle income</td>\n      <td>IBRD</td>\n    </tr>\n    <tr>\n      <th>3</th>\n      <td>3</td>\n      <td>2015</td>\n      <td>1.00161</td>\n      <td>20105.198992</td>\n      <td>9.55</td>\n      <td>ARG</td>\n      <td>Argentina</td>\n      <td>Latin America &amp; Caribbean</td>\n      <td>Upper middle income</td>\n      <td>IBRD</td>\n    </tr>\n    <tr>\n      <th>4</th>\n      <td>4</td>\n      <td>2018</td>\n      <td>1.00517</td>\n      <td>23313.817940</td>\n      <td>9.65</td>\n      <td>ARG</td>\n      <td>Argentina</td>\n      <td>Latin America &amp; Caribbean</td>\n      <td>Upper middle income</td>\n      <td>IBRD</td>\n    </tr>\n  </tbody>\n</table>\n</div>"
          },
          "metadata": {}
        }
      ]
    },
    {
      "cell_type": "markdown",
      "source": "**Bubble Chart**\n\nStoring values in \n\"*i_normal, j_normal, s_normal for size of bubble* \"",
      "metadata": {
        "tags": [],
        "cell_id": "00005-932ccd00-361e-40fc-a39a-0ec34c9f04f2",
        "deepnote_cell_type": "markdown"
      }
    },
    {
      "cell_type": "code",
      "metadata": {
        "tags": [],
        "cell_id": "00002-463bec4c-4955-4be8-8f6b-1884b5e8d649",
        "deepnote_to_be_reexecuted": false,
        "source_hash": "b4358617",
        "execution_millis": 5,
        "execution_start": 1617746289722,
        "deepnote_cell_type": "code"
      },
      "source": "y1=df[df['Year']==2010]\ny2=df[df['Year']==2015]\ny3=df[df['Year']==2015]\n\ni_normal = y1['SE.ADT.1524.LT.FM.ZS'] / y1['SE.ADT.1524.LT.FM.ZS'].max()\ns_normal = y2['SE.ADT.1524.LT.FM.ZS'] / y2['SE.ADT.1524.LT.FM.ZS'].max()\nj_normal = y3['SE.ADT.1524.LT.FM.ZS'] / y3['SE.ADT.1524.LT.FM.ZS'].max()",
      "execution_count": 3,
      "outputs": []
    },
    {
      "cell_type": "code",
      "metadata": {
        "tags": [],
        "cell_id": "00001-8180ca45-f6d1-4766-8db8-c885e39c33e8",
        "deepnote_to_be_reexecuted": false,
        "source_hash": "b16b419a",
        "execution_millis": 1509,
        "execution_start": 1617746289783,
        "deepnote_cell_type": "code"
      },
      "source": "c = y2['SE.ADT.1524.LT.FM.ZS']\nfig = px.scatter(y2.query(\"Year==2015\"), x=y2[\"NY.GDP.PCAP.PP.CD\"],\n                 y=y2[\"SH.ALC.PCAP.LI\"], color=\"Region\",\n                 hover_name=\"Region\", log_x=True, size=c)\nfig.show()",
      "execution_count": 4,
      "outputs": [
        {
          "data": {
            "text/html": "<html>\n<head><meta charset=\"utf-8\" /></head>\n<body>\n    <div>            <script src=\"https://cdnjs.cloudflare.com/ajax/libs/mathjax/2.7.5/MathJax.js?config=TeX-AMS-MML_SVG\"></script><script type=\"text/javascript\">if (window.MathJax) {MathJax.Hub.Config({SVG: {font: \"STIX-Web\"}});}</script>                <script type=\"text/javascript\">window.PlotlyConfig = {MathJaxConfig: 'local'};</script>\n        <script src=\"https://cdn.plot.ly/plotly-latest.min.js\"></script>                <div id=\"5aac146d-17f0-4834-9357-e8d7926a321a\" class=\"plotly-graph-div\" style=\"height:525px; width:100%;\"></div>            <script type=\"text/javascript\">                                    window.PLOTLYENV=window.PLOTLYENV || {};                                    if (document.getElementById(\"5aac146d-17f0-4834-9357-e8d7926a321a\")) {                    Plotly.newPlot(                        \"5aac146d-17f0-4834-9357-e8d7926a321a\",                        [{\"hovertemplate\": \"<b>%{hovertext}</b><br><br>Region=Latin America & Caribbean <br>x=%{x}<br>y=%{y}<br>size=%{marker.size}<extra></extra>\", \"hovertext\": [\"Latin America & Caribbean \", \"Latin America & Caribbean \", \"Latin America & Caribbean \", \"Latin America & Caribbean \", \"Latin America & Caribbean \", \"Latin America & Caribbean \", \"Latin America & Caribbean \", \"Latin America & Caribbean \", \"Latin America & Caribbean \", \"Latin America & Caribbean \", \"Latin America & Caribbean \", \"Latin America & Caribbean \", \"Latin America & Caribbean \", \"Latin America & Caribbean \"], \"legendgroup\": \"Latin America & Caribbean \", \"marker\": {\"color\": \"#636efa\", \"size\": [1.0016100407, 1.0001000166, 1.0075600147, 1.0017399788, 1.0076800585, 1.0082199574, 0.9957200289, 1.0098700523, 1.0206799507, 1.0014300346, 1.0422999859, 1.0062099695, 0.9952999949, 1.0059499741], \"sizemode\": \"area\", \"sizeref\": 0.00260574996475, \"symbol\": \"circle\"}, \"mode\": \"markers\", \"name\": \"Latin America & Caribbean \", \"orientation\": \"v\", \"showlegend\": true, \"type\": \"scatter\", \"x\": [20105.1989918165, 7133.874457575, 14744.1129133865, 22698.5494450875, 13265.7972569151, 14740.8196991498, 11060.2876329825, 7597.6855699406, 4823.3890440186, 18301.4994177394, 5293.8653582741, 11471.4942285323, 11572.3226921141, 20217.5841382315], \"xaxis\": \"x\", \"y\": [9.55, 4.64, 7.86, 9.26, 5.78, 6.61, 4.98, 3.59, 3.49, 4.92, 5.03, 7.26, 6.63, 6.99], \"yaxis\": \"y\"}, {\"hovertemplate\": \"<b>%{hovertext}</b><br><br>Region=Europe & Central Asia<br>x=%{x}<br>y=%{y}<br>size=%{marker.size}<extra></extra>\", \"hovertext\": [\"Europe & Central Asia\", \"Europe & Central Asia\", \"Europe & Central Asia\", \"Europe & Central Asia\"], \"legendgroup\": \"Europe & Central Asia\", \"marker\": {\"color\": \"#EF553B\", \"size\": [0.9995599985, 1.0007599592, 0.9936000109, 1.0], \"sizemode\": \"area\", \"sizeref\": 0.00260574996475, \"symbol\": \"circle\"}, \"mode\": \"markers\", \"name\": \"Europe & Central Asia\", \"orientation\": \"v\", \"showlegend\": true, \"type\": \"scatter\", \"x\": [14938.4011276715, 34903.1274779473, 25753.3918216624, 6343.1497417051], \"xaxis\": \"x\", \"y\": [4.58, 11.32, 2.12, 2.59], \"yaxis\": \"y\"}, {\"hovertemplate\": \"<b>%{hovertext}</b><br><br>Region=Sub-Saharan Africa <br>x=%{x}<br>y=%{y}<br>size=%{marker.size}<extra></extra>\", \"hovertext\": [\"Sub-Saharan Africa \", \"Sub-Saharan Africa \", \"Sub-Saharan Africa \", \"Sub-Saharan Africa \", \"Sub-Saharan Africa \", \"Sub-Saharan Africa \", \"Sub-Saharan Africa \", \"Sub-Saharan Africa \", \"Sub-Saharan Africa \"], \"legendgroup\": \"Sub-Saharan Africa \", \"marker\": {\"color\": \"#00cc96\", \"size\": [1.0116000175, 0.5014600158, 0.9109899998, 1.0121799707, 0.6477900147, 0.7925800085, 1.0054899454, 0.9727399945, 0.8739699721], \"sizemode\": \"area\", \"sizeref\": 0.00260574996475, \"symbol\": \"circle\"}, \"mode\": \"markers\", \"name\": \"Sub-Saharan Africa \", \"orientation\": \"v\", \"showlegend\": true, \"type\": \"scatter\", \"x\": [5994.3728324534, 1820.0593928342, 2066.8593586012, 1018.9352624632, 2032.6551725229, 1291.267985931, 12552.340126643, 2348.4437285337, 1397.3331649405], \"xaxis\": \"x\", \"y\": [5.95, 1.45, 3.67, 3.62, 1.25, 2.19, 9.61, 11.05, 2.37], \"yaxis\": \"y\"}, {\"hovertemplate\": \"<b>%{hovertext}</b><br><br>Region=East Asia & Pacific<br>x=%{x}<br>y=%{y}<br>size=%{marker.size}<extra></extra>\", \"hovertext\": [\"East Asia & Pacific\", \"East Asia & Pacific\", \"East Asia & Pacific\", \"East Asia & Pacific\", \"East Asia & Pacific\", \"East Asia & Pacific\"], \"legendgroup\": \"East Asia & Pacific\", \"marker\": {\"color\": \"#ab63fa\", \"size\": [1.0076600313, 0.9993500113, 0.9586499929, 1.00364995, 1.0010299683, 1.0029499531], \"sizemode\": \"area\", \"sizeref\": 0.00260574996475, \"symbol\": \"circle\"}, \"mode\": \"markers\", \"name\": \"East Asia & Pacific\", \"orientation\": \"v\", \"showlegend\": true, \"type\": \"scatter\", \"x\": [3388.7374199775, 10247.206377812, 6168.4776422143, 7186.7688581811, 86974.7476230627, 15822.3532640938], \"xaxis\": \"x\", \"y\": [6.37, 0.6000000000000001, 10.05, 6.7, 2.07, 8.36], \"yaxis\": \"y\"}, {\"hovertemplate\": \"<b>%{hovertext}</b><br><br>Region=Middle East & North Africa<br>x=%{x}<br>y=%{y}<br>size=%{marker.size}<extra></extra>\", \"hovertext\": [\"Middle East & North Africa\", \"Middle East & North Africa\", \"Middle East & North Africa\"], \"legendgroup\": \"Middle East & North Africa\", \"marker\": {\"color\": \"#FFA15A\", \"size\": [1.0025199652, 0.9931499958, 0.9946799874], \"sizemode\": \"area\", \"sizeref\": 0.00260574996475, \"symbol\": \"circle\"}, \"mode\": \"markers\", \"name\": \"Middle East & North Africa\", \"orientation\": \"v\", \"showlegend\": true, \"type\": \"scatter\", \"x\": [47230.6231915347, 31113.3197962347, 64901.8520246431], \"xaxis\": \"x\", \"y\": [0.003, 0.77, 3.79], \"yaxis\": \"y\"}],                        {\"legend\": {\"itemsizing\": \"constant\", \"title\": {\"text\": \"Region\"}, \"tracegroupgap\": 0}, \"margin\": {\"t\": 60}, \"template\": {\"data\": {\"bar\": [{\"error_x\": {\"color\": \"#2a3f5f\"}, \"error_y\": {\"color\": \"#2a3f5f\"}, \"marker\": {\"line\": {\"color\": \"#E5ECF6\", \"width\": 0.5}}, \"type\": \"bar\"}], \"barpolar\": [{\"marker\": {\"line\": {\"color\": \"#E5ECF6\", \"width\": 0.5}}, \"type\": \"barpolar\"}], \"carpet\": [{\"aaxis\": {\"endlinecolor\": \"#2a3f5f\", \"gridcolor\": \"white\", \"linecolor\": \"white\", \"minorgridcolor\": \"white\", \"startlinecolor\": \"#2a3f5f\"}, \"baxis\": {\"endlinecolor\": \"#2a3f5f\", \"gridcolor\": \"white\", \"linecolor\": \"white\", \"minorgridcolor\": \"white\", \"startlinecolor\": \"#2a3f5f\"}, \"type\": \"carpet\"}], \"choropleth\": [{\"colorbar\": {\"outlinewidth\": 0, \"ticks\": \"\"}, \"type\": \"choropleth\"}], \"contour\": [{\"colorbar\": {\"outlinewidth\": 0, \"ticks\": \"\"}, \"colorscale\": [[0.0, \"#0d0887\"], [0.1111111111111111, \"#46039f\"], [0.2222222222222222, \"#7201a8\"], [0.3333333333333333, \"#9c179e\"], [0.4444444444444444, \"#bd3786\"], [0.5555555555555556, \"#d8576b\"], [0.6666666666666666, \"#ed7953\"], [0.7777777777777778, \"#fb9f3a\"], [0.8888888888888888, \"#fdca26\"], [1.0, \"#f0f921\"]], \"type\": \"contour\"}], \"contourcarpet\": [{\"colorbar\": {\"outlinewidth\": 0, \"ticks\": \"\"}, \"type\": \"contourcarpet\"}], \"heatmap\": [{\"colorbar\": {\"outlinewidth\": 0, \"ticks\": \"\"}, \"colorscale\": [[0.0, \"#0d0887\"], [0.1111111111111111, \"#46039f\"], [0.2222222222222222, \"#7201a8\"], [0.3333333333333333, \"#9c179e\"], [0.4444444444444444, \"#bd3786\"], [0.5555555555555556, \"#d8576b\"], [0.6666666666666666, \"#ed7953\"], [0.7777777777777778, \"#fb9f3a\"], [0.8888888888888888, \"#fdca26\"], [1.0, \"#f0f921\"]], \"type\": \"heatmap\"}], \"heatmapgl\": [{\"colorbar\": {\"outlinewidth\": 0, \"ticks\": \"\"}, \"colorscale\": [[0.0, \"#0d0887\"], [0.1111111111111111, \"#46039f\"], [0.2222222222222222, \"#7201a8\"], [0.3333333333333333, \"#9c179e\"], [0.4444444444444444, \"#bd3786\"], [0.5555555555555556, \"#d8576b\"], [0.6666666666666666, \"#ed7953\"], [0.7777777777777778, \"#fb9f3a\"], [0.8888888888888888, \"#fdca26\"], [1.0, \"#f0f921\"]], \"type\": \"heatmapgl\"}], \"histogram\": [{\"marker\": {\"colorbar\": {\"outlinewidth\": 0, \"ticks\": \"\"}}, \"type\": \"histogram\"}], \"histogram2d\": [{\"colorbar\": {\"outlinewidth\": 0, \"ticks\": \"\"}, \"colorscale\": [[0.0, \"#0d0887\"], [0.1111111111111111, \"#46039f\"], [0.2222222222222222, \"#7201a8\"], [0.3333333333333333, \"#9c179e\"], [0.4444444444444444, \"#bd3786\"], [0.5555555555555556, \"#d8576b\"], [0.6666666666666666, \"#ed7953\"], [0.7777777777777778, \"#fb9f3a\"], [0.8888888888888888, \"#fdca26\"], [1.0, \"#f0f921\"]], \"type\": \"histogram2d\"}], \"histogram2dcontour\": [{\"colorbar\": {\"outlinewidth\": 0, \"ticks\": \"\"}, \"colorscale\": [[0.0, \"#0d0887\"], [0.1111111111111111, \"#46039f\"], [0.2222222222222222, \"#7201a8\"], [0.3333333333333333, \"#9c179e\"], [0.4444444444444444, \"#bd3786\"], [0.5555555555555556, \"#d8576b\"], [0.6666666666666666, \"#ed7953\"], [0.7777777777777778, \"#fb9f3a\"], [0.8888888888888888, \"#fdca26\"], [1.0, \"#f0f921\"]], \"type\": \"histogram2dcontour\"}], \"mesh3d\": [{\"colorbar\": {\"outlinewidth\": 0, \"ticks\": \"\"}, \"type\": \"mesh3d\"}], \"parcoords\": [{\"line\": {\"colorbar\": {\"outlinewidth\": 0, \"ticks\": \"\"}}, \"type\": \"parcoords\"}], \"pie\": [{\"automargin\": true, \"type\": \"pie\"}], \"scatter\": [{\"marker\": {\"colorbar\": {\"outlinewidth\": 0, \"ticks\": \"\"}}, \"type\": \"scatter\"}], \"scatter3d\": [{\"line\": {\"colorbar\": {\"outlinewidth\": 0, \"ticks\": \"\"}}, \"marker\": {\"colorbar\": {\"outlinewidth\": 0, \"ticks\": \"\"}}, \"type\": \"scatter3d\"}], \"scattercarpet\": [{\"marker\": {\"colorbar\": {\"outlinewidth\": 0, \"ticks\": \"\"}}, \"type\": \"scattercarpet\"}], \"scattergeo\": [{\"marker\": {\"colorbar\": {\"outlinewidth\": 0, \"ticks\": \"\"}}, \"type\": \"scattergeo\"}], \"scattergl\": [{\"marker\": {\"colorbar\": {\"outlinewidth\": 0, \"ticks\": \"\"}}, \"type\": \"scattergl\"}], \"scattermapbox\": [{\"marker\": {\"colorbar\": {\"outlinewidth\": 0, \"ticks\": \"\"}}, \"type\": \"scattermapbox\"}], \"scatterpolar\": [{\"marker\": {\"colorbar\": {\"outlinewidth\": 0, \"ticks\": \"\"}}, \"type\": \"scatterpolar\"}], \"scatterpolargl\": [{\"marker\": {\"colorbar\": {\"outlinewidth\": 0, \"ticks\": \"\"}}, \"type\": \"scatterpolargl\"}], \"scatterternary\": [{\"marker\": {\"colorbar\": {\"outlinewidth\": 0, \"ticks\": \"\"}}, \"type\": \"scatterternary\"}], \"surface\": [{\"colorbar\": {\"outlinewidth\": 0, \"ticks\": \"\"}, \"colorscale\": [[0.0, \"#0d0887\"], [0.1111111111111111, \"#46039f\"], [0.2222222222222222, \"#7201a8\"], [0.3333333333333333, \"#9c179e\"], [0.4444444444444444, \"#bd3786\"], [0.5555555555555556, \"#d8576b\"], [0.6666666666666666, \"#ed7953\"], [0.7777777777777778, \"#fb9f3a\"], [0.8888888888888888, \"#fdca26\"], [1.0, \"#f0f921\"]], \"type\": \"surface\"}], \"table\": [{\"cells\": {\"fill\": {\"color\": \"#EBF0F8\"}, \"line\": {\"color\": \"white\"}}, \"header\": {\"fill\": {\"color\": \"#C8D4E3\"}, \"line\": {\"color\": \"white\"}}, \"type\": \"table\"}]}, \"layout\": {\"annotationdefaults\": {\"arrowcolor\": \"#2a3f5f\", \"arrowhead\": 0, \"arrowwidth\": 1}, \"autotypenumbers\": \"strict\", \"coloraxis\": {\"colorbar\": {\"outlinewidth\": 0, \"ticks\": \"\"}}, \"colorscale\": {\"diverging\": [[0, \"#8e0152\"], [0.1, \"#c51b7d\"], [0.2, \"#de77ae\"], [0.3, \"#f1b6da\"], [0.4, \"#fde0ef\"], [0.5, \"#f7f7f7\"], [0.6, \"#e6f5d0\"], [0.7, \"#b8e186\"], [0.8, \"#7fbc41\"], [0.9, \"#4d9221\"], [1, \"#276419\"]], \"sequential\": [[0.0, \"#0d0887\"], [0.1111111111111111, \"#46039f\"], [0.2222222222222222, \"#7201a8\"], [0.3333333333333333, \"#9c179e\"], [0.4444444444444444, \"#bd3786\"], [0.5555555555555556, \"#d8576b\"], [0.6666666666666666, \"#ed7953\"], [0.7777777777777778, \"#fb9f3a\"], [0.8888888888888888, \"#fdca26\"], [1.0, \"#f0f921\"]], \"sequentialminus\": [[0.0, \"#0d0887\"], [0.1111111111111111, \"#46039f\"], [0.2222222222222222, \"#7201a8\"], [0.3333333333333333, \"#9c179e\"], [0.4444444444444444, \"#bd3786\"], [0.5555555555555556, \"#d8576b\"], [0.6666666666666666, \"#ed7953\"], [0.7777777777777778, \"#fb9f3a\"], [0.8888888888888888, \"#fdca26\"], [1.0, \"#f0f921\"]]}, \"colorway\": [\"#636efa\", \"#EF553B\", \"#00cc96\", \"#ab63fa\", \"#FFA15A\", \"#19d3f3\", \"#FF6692\", \"#B6E880\", \"#FF97FF\", \"#FECB52\"], \"font\": {\"color\": \"#2a3f5f\"}, \"geo\": {\"bgcolor\": \"white\", \"lakecolor\": \"white\", \"landcolor\": \"#E5ECF6\", \"showlakes\": true, \"showland\": true, \"subunitcolor\": \"white\"}, \"hoverlabel\": {\"align\": \"left\"}, \"hovermode\": \"closest\", \"mapbox\": {\"style\": \"light\"}, \"paper_bgcolor\": \"white\", \"plot_bgcolor\": \"#E5ECF6\", \"polar\": {\"angularaxis\": {\"gridcolor\": \"white\", \"linecolor\": \"white\", \"ticks\": \"\"}, \"bgcolor\": \"#E5ECF6\", \"radialaxis\": {\"gridcolor\": \"white\", \"linecolor\": \"white\", \"ticks\": \"\"}}, \"scene\": {\"xaxis\": {\"backgroundcolor\": \"#E5ECF6\", \"gridcolor\": \"white\", \"gridwidth\": 2, \"linecolor\": \"white\", \"showbackground\": true, \"ticks\": \"\", \"zerolinecolor\": \"white\"}, \"yaxis\": {\"backgroundcolor\": \"#E5ECF6\", \"gridcolor\": \"white\", \"gridwidth\": 2, \"linecolor\": \"white\", \"showbackground\": true, \"ticks\": \"\", \"zerolinecolor\": \"white\"}, \"zaxis\": {\"backgroundcolor\": \"#E5ECF6\", \"gridcolor\": \"white\", \"gridwidth\": 2, \"linecolor\": \"white\", \"showbackground\": true, \"ticks\": \"\", \"zerolinecolor\": \"white\"}}, \"shapedefaults\": {\"line\": {\"color\": \"#2a3f5f\"}}, \"ternary\": {\"aaxis\": {\"gridcolor\": \"white\", \"linecolor\": \"white\", \"ticks\": \"\"}, \"baxis\": {\"gridcolor\": \"white\", \"linecolor\": \"white\", \"ticks\": \"\"}, \"bgcolor\": \"#E5ECF6\", \"caxis\": {\"gridcolor\": \"white\", \"linecolor\": \"white\", \"ticks\": \"\"}}, \"title\": {\"x\": 0.05}, \"xaxis\": {\"automargin\": true, \"gridcolor\": \"white\", \"linecolor\": \"white\", \"ticks\": \"\", \"title\": {\"standoff\": 15}, \"zerolinecolor\": \"white\", \"zerolinewidth\": 2}, \"yaxis\": {\"automargin\": true, \"gridcolor\": \"white\", \"linecolor\": \"white\", \"ticks\": \"\", \"title\": {\"standoff\": 15}, \"zerolinecolor\": \"white\", \"zerolinewidth\": 2}}}, \"xaxis\": {\"anchor\": \"y\", \"domain\": [0.0, 1.0], \"title\": {\"text\": \"x\"}, \"type\": \"log\"}, \"yaxis\": {\"anchor\": \"x\", \"domain\": [0.0, 1.0], \"title\": {\"text\": \"y\"}}},                        {\"responsive\": true}                    ).then(function(){\n                            \nvar gd = document.getElementById('5aac146d-17f0-4834-9357-e8d7926a321a');\nvar x = new MutationObserver(function (mutations, observer) {{\n        var display = window.getComputedStyle(gd).display;\n        if (!display || display === 'none') {{\n            console.log([gd, 'removed!']);\n            Plotly.purge(gd);\n            observer.disconnect();\n        }}\n}});\n\n// Listen for the removal of the full notebook cells\nvar notebookContainer = gd.closest('#notebook-container');\nif (notebookContainer) {{\n    x.observe(notebookContainer, {childList: true});\n}}\n\n// Listen for the clearing of the current output cell\nvar outputEl = gd.closest('.output');\nif (outputEl) {{\n    x.observe(outputEl, {childList: true});\n}}\n\n                        })                };                            </script>        </div>\n</body>\n</html>"
          },
          "metadata": {},
          "output_type": "display_data"
        }
      ]
    },
    {
      "cell_type": "markdown",
      "source": "- **Bubble size :** Literacy rate, youth(15-24)\n- **X-axis :** GDP per capita, PPP (current international $)\n- **Y-axis:** Total alcohol consumption per capita\n\nThis is one of the visualizations that seemed very interesting to me – I was expecting that literacy rate should be indirectly proportional to the Total Alcohol consumption per capita i.e. If Literacy rate is high Total Alcohol consumption per capita must be low resulting lower GDP, but in some cases such as Spain has high Total alcohol consumption and high literacy rate too. But in country in Sub-Saharan Africa in top left corner in the graph Tanzania has Total alcohol consumption per capita very high 11.03 and low Literacy rate GPI 0.91, similarly for central African republic has very low Literacy rate 0.60 and high alcohol consumption rate. So not for all countries but for most of the cases",
      "metadata": {
        "tags": [],
        "cell_id": "00006-11b9bb16-3b90-4a82-a9ca-a1c0da6d3ee5",
        "deepnote_cell_type": "markdown"
      }
    },
    {
      "cell_type": "markdown",
      "source": "**Line chart for spain GDP vs Year**",
      "metadata": {
        "tags": [],
        "cell_id": "00009-93e6db46-c362-488e-b297-02d453532c82",
        "deepnote_cell_type": "markdown"
      }
    },
    {
      "cell_type": "code",
      "source": "d = df[df['Country Name']=='Spain']\nfig = px.line(d, x='Year', y='NY.GDP.PCAP.PP.CD',title='SPAIN',labels={\n                     \"NY.GDP.PCAP.PP.CD\" : \"GDP\"\n                 })\nfig.show()",
      "metadata": {
        "tags": [],
        "cell_id": "00011-d1e0c9cc-1119-413b-9f00-90e34c7607eb",
        "deepnote_to_be_reexecuted": false,
        "source_hash": "65951f02",
        "execution_millis": 69,
        "execution_start": 1617746291288,
        "deepnote_cell_type": "code"
      },
      "outputs": [
        {
          "data": {
            "text/html": "<html>\n<head><meta charset=\"utf-8\" /></head>\n<body>\n    <div>            <script src=\"https://cdnjs.cloudflare.com/ajax/libs/mathjax/2.7.5/MathJax.js?config=TeX-AMS-MML_SVG\"></script><script type=\"text/javascript\">if (window.MathJax) {MathJax.Hub.Config({SVG: {font: \"STIX-Web\"}});}</script>                <script type=\"text/javascript\">window.PlotlyConfig = {MathJaxConfig: 'local'};</script>\n        <script src=\"https://cdn.plot.ly/plotly-latest.min.js\"></script>                <div id=\"f7ee4971-944e-4500-a98f-60f445b569fd\" class=\"plotly-graph-div\" style=\"height:525px; width:100%;\"></div>            <script type=\"text/javascript\">                                    window.PLOTLYENV=window.PLOTLYENV || {};                                    if (document.getElementById(\"f7ee4971-944e-4500-a98f-60f445b569fd\")) {                    Plotly.newPlot(                        \"f7ee4971-944e-4500-a98f-60f445b569fd\",                        [{\"hovertemplate\": \"Year=%{x}<br>GDP=%{y}<extra></extra>\", \"legendgroup\": \"\", \"line\": {\"color\": \"#636efa\", \"dash\": \"solid\"}, \"mode\": \"lines\", \"name\": \"\", \"orientation\": \"v\", \"showlegend\": false, \"type\": \"scatter\", \"x\": [2010, 2015, 2018], \"xaxis\": \"x\", \"y\": [31706.8774006978, 34903.1274779473, 42005.2533458565], \"yaxis\": \"y\"}],                        {\"legend\": {\"tracegroupgap\": 0}, \"template\": {\"data\": {\"bar\": [{\"error_x\": {\"color\": \"#2a3f5f\"}, \"error_y\": {\"color\": \"#2a3f5f\"}, \"marker\": {\"line\": {\"color\": \"#E5ECF6\", \"width\": 0.5}}, \"type\": \"bar\"}], \"barpolar\": [{\"marker\": {\"line\": {\"color\": \"#E5ECF6\", \"width\": 0.5}}, \"type\": \"barpolar\"}], \"carpet\": [{\"aaxis\": {\"endlinecolor\": \"#2a3f5f\", \"gridcolor\": \"white\", \"linecolor\": \"white\", \"minorgridcolor\": \"white\", \"startlinecolor\": \"#2a3f5f\"}, \"baxis\": {\"endlinecolor\": \"#2a3f5f\", \"gridcolor\": \"white\", \"linecolor\": \"white\", \"minorgridcolor\": \"white\", \"startlinecolor\": \"#2a3f5f\"}, \"type\": \"carpet\"}], \"choropleth\": [{\"colorbar\": {\"outlinewidth\": 0, \"ticks\": \"\"}, \"type\": \"choropleth\"}], \"contour\": [{\"colorbar\": {\"outlinewidth\": 0, \"ticks\": \"\"}, \"colorscale\": [[0.0, \"#0d0887\"], [0.1111111111111111, \"#46039f\"], [0.2222222222222222, \"#7201a8\"], [0.3333333333333333, \"#9c179e\"], [0.4444444444444444, \"#bd3786\"], [0.5555555555555556, \"#d8576b\"], [0.6666666666666666, \"#ed7953\"], [0.7777777777777778, \"#fb9f3a\"], [0.8888888888888888, \"#fdca26\"], [1.0, \"#f0f921\"]], \"type\": \"contour\"}], \"contourcarpet\": [{\"colorbar\": {\"outlinewidth\": 0, \"ticks\": \"\"}, \"type\": \"contourcarpet\"}], \"heatmap\": [{\"colorbar\": {\"outlinewidth\": 0, \"ticks\": \"\"}, \"colorscale\": [[0.0, \"#0d0887\"], [0.1111111111111111, \"#46039f\"], [0.2222222222222222, \"#7201a8\"], [0.3333333333333333, \"#9c179e\"], [0.4444444444444444, \"#bd3786\"], [0.5555555555555556, \"#d8576b\"], [0.6666666666666666, \"#ed7953\"], [0.7777777777777778, \"#fb9f3a\"], [0.8888888888888888, \"#fdca26\"], [1.0, \"#f0f921\"]], \"type\": \"heatmap\"}], \"heatmapgl\": [{\"colorbar\": {\"outlinewidth\": 0, \"ticks\": \"\"}, \"colorscale\": [[0.0, \"#0d0887\"], [0.1111111111111111, \"#46039f\"], [0.2222222222222222, \"#7201a8\"], [0.3333333333333333, \"#9c179e\"], [0.4444444444444444, \"#bd3786\"], [0.5555555555555556, \"#d8576b\"], [0.6666666666666666, \"#ed7953\"], [0.7777777777777778, \"#fb9f3a\"], [0.8888888888888888, \"#fdca26\"], [1.0, \"#f0f921\"]], \"type\": \"heatmapgl\"}], \"histogram\": [{\"marker\": {\"colorbar\": {\"outlinewidth\": 0, \"ticks\": \"\"}}, \"type\": \"histogram\"}], \"histogram2d\": [{\"colorbar\": {\"outlinewidth\": 0, \"ticks\": \"\"}, \"colorscale\": [[0.0, \"#0d0887\"], [0.1111111111111111, \"#46039f\"], [0.2222222222222222, \"#7201a8\"], [0.3333333333333333, \"#9c179e\"], [0.4444444444444444, \"#bd3786\"], [0.5555555555555556, \"#d8576b\"], [0.6666666666666666, \"#ed7953\"], [0.7777777777777778, \"#fb9f3a\"], [0.8888888888888888, \"#fdca26\"], [1.0, \"#f0f921\"]], \"type\": \"histogram2d\"}], \"histogram2dcontour\": [{\"colorbar\": {\"outlinewidth\": 0, \"ticks\": \"\"}, \"colorscale\": [[0.0, \"#0d0887\"], [0.1111111111111111, \"#46039f\"], [0.2222222222222222, \"#7201a8\"], [0.3333333333333333, \"#9c179e\"], [0.4444444444444444, \"#bd3786\"], [0.5555555555555556, \"#d8576b\"], [0.6666666666666666, \"#ed7953\"], [0.7777777777777778, \"#fb9f3a\"], [0.8888888888888888, \"#fdca26\"], [1.0, \"#f0f921\"]], \"type\": \"histogram2dcontour\"}], \"mesh3d\": [{\"colorbar\": {\"outlinewidth\": 0, \"ticks\": \"\"}, \"type\": \"mesh3d\"}], \"parcoords\": [{\"line\": {\"colorbar\": {\"outlinewidth\": 0, \"ticks\": \"\"}}, \"type\": \"parcoords\"}], \"pie\": [{\"automargin\": true, \"type\": \"pie\"}], \"scatter\": [{\"marker\": {\"colorbar\": {\"outlinewidth\": 0, \"ticks\": \"\"}}, \"type\": \"scatter\"}], \"scatter3d\": [{\"line\": {\"colorbar\": {\"outlinewidth\": 0, \"ticks\": \"\"}}, \"marker\": {\"colorbar\": {\"outlinewidth\": 0, \"ticks\": \"\"}}, \"type\": \"scatter3d\"}], \"scattercarpet\": [{\"marker\": {\"colorbar\": {\"outlinewidth\": 0, \"ticks\": \"\"}}, \"type\": \"scattercarpet\"}], \"scattergeo\": [{\"marker\": {\"colorbar\": {\"outlinewidth\": 0, \"ticks\": \"\"}}, \"type\": \"scattergeo\"}], \"scattergl\": [{\"marker\": {\"colorbar\": {\"outlinewidth\": 0, \"ticks\": \"\"}}, \"type\": \"scattergl\"}], \"scattermapbox\": [{\"marker\": {\"colorbar\": {\"outlinewidth\": 0, \"ticks\": \"\"}}, \"type\": \"scattermapbox\"}], \"scatterpolar\": [{\"marker\": {\"colorbar\": {\"outlinewidth\": 0, \"ticks\": \"\"}}, \"type\": \"scatterpolar\"}], \"scatterpolargl\": [{\"marker\": {\"colorbar\": {\"outlinewidth\": 0, \"ticks\": \"\"}}, \"type\": \"scatterpolargl\"}], \"scatterternary\": [{\"marker\": {\"colorbar\": {\"outlinewidth\": 0, \"ticks\": \"\"}}, \"type\": \"scatterternary\"}], \"surface\": [{\"colorbar\": {\"outlinewidth\": 0, \"ticks\": \"\"}, \"colorscale\": [[0.0, \"#0d0887\"], [0.1111111111111111, \"#46039f\"], [0.2222222222222222, \"#7201a8\"], [0.3333333333333333, \"#9c179e\"], [0.4444444444444444, \"#bd3786\"], [0.5555555555555556, \"#d8576b\"], [0.6666666666666666, \"#ed7953\"], [0.7777777777777778, \"#fb9f3a\"], [0.8888888888888888, \"#fdca26\"], [1.0, \"#f0f921\"]], \"type\": \"surface\"}], \"table\": [{\"cells\": {\"fill\": {\"color\": \"#EBF0F8\"}, \"line\": {\"color\": \"white\"}}, \"header\": {\"fill\": {\"color\": \"#C8D4E3\"}, \"line\": {\"color\": \"white\"}}, \"type\": \"table\"}]}, \"layout\": {\"annotationdefaults\": {\"arrowcolor\": \"#2a3f5f\", \"arrowhead\": 0, \"arrowwidth\": 1}, \"autotypenumbers\": \"strict\", \"coloraxis\": {\"colorbar\": {\"outlinewidth\": 0, \"ticks\": \"\"}}, \"colorscale\": {\"diverging\": [[0, \"#8e0152\"], [0.1, \"#c51b7d\"], [0.2, \"#de77ae\"], [0.3, \"#f1b6da\"], [0.4, \"#fde0ef\"], [0.5, \"#f7f7f7\"], [0.6, \"#e6f5d0\"], [0.7, \"#b8e186\"], [0.8, \"#7fbc41\"], [0.9, \"#4d9221\"], [1, \"#276419\"]], \"sequential\": [[0.0, \"#0d0887\"], [0.1111111111111111, \"#46039f\"], [0.2222222222222222, \"#7201a8\"], [0.3333333333333333, \"#9c179e\"], [0.4444444444444444, \"#bd3786\"], [0.5555555555555556, \"#d8576b\"], [0.6666666666666666, \"#ed7953\"], [0.7777777777777778, \"#fb9f3a\"], [0.8888888888888888, \"#fdca26\"], [1.0, \"#f0f921\"]], \"sequentialminus\": [[0.0, \"#0d0887\"], [0.1111111111111111, \"#46039f\"], [0.2222222222222222, \"#7201a8\"], [0.3333333333333333, \"#9c179e\"], [0.4444444444444444, \"#bd3786\"], [0.5555555555555556, \"#d8576b\"], [0.6666666666666666, \"#ed7953\"], [0.7777777777777778, \"#fb9f3a\"], [0.8888888888888888, \"#fdca26\"], [1.0, \"#f0f921\"]]}, \"colorway\": [\"#636efa\", \"#EF553B\", \"#00cc96\", \"#ab63fa\", \"#FFA15A\", \"#19d3f3\", \"#FF6692\", \"#B6E880\", \"#FF97FF\", \"#FECB52\"], \"font\": {\"color\": \"#2a3f5f\"}, \"geo\": {\"bgcolor\": \"white\", \"lakecolor\": \"white\", \"landcolor\": \"#E5ECF6\", \"showlakes\": true, \"showland\": true, \"subunitcolor\": \"white\"}, \"hoverlabel\": {\"align\": \"left\"}, \"hovermode\": \"closest\", \"mapbox\": {\"style\": \"light\"}, \"paper_bgcolor\": \"white\", \"plot_bgcolor\": \"#E5ECF6\", \"polar\": {\"angularaxis\": {\"gridcolor\": \"white\", \"linecolor\": \"white\", \"ticks\": \"\"}, \"bgcolor\": \"#E5ECF6\", \"radialaxis\": {\"gridcolor\": \"white\", \"linecolor\": \"white\", \"ticks\": \"\"}}, \"scene\": {\"xaxis\": {\"backgroundcolor\": \"#E5ECF6\", \"gridcolor\": \"white\", \"gridwidth\": 2, \"linecolor\": \"white\", \"showbackground\": true, \"ticks\": \"\", \"zerolinecolor\": \"white\"}, \"yaxis\": {\"backgroundcolor\": \"#E5ECF6\", \"gridcolor\": \"white\", \"gridwidth\": 2, \"linecolor\": \"white\", \"showbackground\": true, \"ticks\": \"\", \"zerolinecolor\": \"white\"}, \"zaxis\": {\"backgroundcolor\": \"#E5ECF6\", \"gridcolor\": \"white\", \"gridwidth\": 2, \"linecolor\": \"white\", \"showbackground\": true, \"ticks\": \"\", \"zerolinecolor\": \"white\"}}, \"shapedefaults\": {\"line\": {\"color\": \"#2a3f5f\"}}, \"ternary\": {\"aaxis\": {\"gridcolor\": \"white\", \"linecolor\": \"white\", \"ticks\": \"\"}, \"baxis\": {\"gridcolor\": \"white\", \"linecolor\": \"white\", \"ticks\": \"\"}, \"bgcolor\": \"#E5ECF6\", \"caxis\": {\"gridcolor\": \"white\", \"linecolor\": \"white\", \"ticks\": \"\"}}, \"title\": {\"x\": 0.05}, \"xaxis\": {\"automargin\": true, \"gridcolor\": \"white\", \"linecolor\": \"white\", \"ticks\": \"\", \"title\": {\"standoff\": 15}, \"zerolinecolor\": \"white\", \"zerolinewidth\": 2}, \"yaxis\": {\"automargin\": true, \"gridcolor\": \"white\", \"linecolor\": \"white\", \"ticks\": \"\", \"title\": {\"standoff\": 15}, \"zerolinecolor\": \"white\", \"zerolinewidth\": 2}}}, \"title\": {\"text\": \"SPAIN\"}, \"xaxis\": {\"anchor\": \"y\", \"domain\": [0.0, 1.0], \"title\": {\"text\": \"Year\"}}, \"yaxis\": {\"anchor\": \"x\", \"domain\": [0.0, 1.0], \"title\": {\"text\": \"GDP\"}}},                        {\"responsive\": true}                    ).then(function(){\n                            \nvar gd = document.getElementById('f7ee4971-944e-4500-a98f-60f445b569fd');\nvar x = new MutationObserver(function (mutations, observer) {{\n        var display = window.getComputedStyle(gd).display;\n        if (!display || display === 'none') {{\n            console.log([gd, 'removed!']);\n            Plotly.purge(gd);\n            observer.disconnect();\n        }}\n}});\n\n// Listen for the removal of the full notebook cells\nvar notebookContainer = gd.closest('#notebook-container');\nif (notebookContainer) {{\n    x.observe(notebookContainer, {childList: true});\n}}\n\n// Listen for the clearing of the current output cell\nvar outputEl = gd.closest('.output');\nif (outputEl) {{\n    x.observe(outputEl, {childList: true});\n}}\n\n                        })                };                            </script>        </div>\n</body>\n</html>"
          },
          "metadata": {},
          "output_type": "display_data"
        }
      ],
      "execution_count": 5
    },
    {
      "cell_type": "code",
      "metadata": {
        "tags": [],
        "cell_id": "00002-9d98ce17-f1cc-43aa-8afa-f2291c162f7b",
        "deepnote_to_be_reexecuted": false,
        "source_hash": "bdf2a7ae",
        "execution_millis": 9,
        "execution_start": 1617746291395,
        "deepnote_cell_type": "code"
      },
      "source": "df.isnull().any() #checking for null values\n",
      "execution_count": 6,
      "outputs": [
        {
          "output_type": "execute_result",
          "execution_count": 6,
          "data": {
            "text/plain": "Unnamed: 0              False\nYear                    False\nSE.ADT.1524.LT.FM.ZS    False\nNY.GDP.PCAP.PP.CD       False\nSH.ALC.PCAP.LI          False\nCountry Code            False\nCountry Name            False\nRegion                  False\nIncome Group            False\nLending Type            False\ndtype: bool"
          },
          "metadata": {}
        }
      ]
    },
    {
      "cell_type": "markdown",
      "source": "I chose the data viz to be between 2015 to 2020 and for the following country&#39;s:\n\n- Central African Republic\n- Spain\n- Singapore\n- UAE\n- India\n- Chile\n- Tanzania\n- Chad\n- Indonesia\n- Pakisthan\n- Azerbaijan\n- Turkey\n- Oman\n\nThe Bar charts in the next page explain more detail about these relationships. _ **Total alcohol consumption per capita is mostly high where litercay rate is low** _ and vice versa.\n\nAnd the scatter plot represents how alcohol consumption rate per capita is effecting the GDP total. _ **Wherever alcohol consumption per capita is high GDP is also high** _ and vice versa – there are no outliers in the data filters I have applied. !",
      "metadata": {
        "tags": [],
        "cell_id": "00009-d0609a1e-0c53-46a4-a1ff-3848ba370da5",
        "deepnote_cell_type": "markdown"
      }
    },
    {
      "cell_type": "markdown",
      "source": "**Affect of alcohol consumption rate per capita vs GDP total**",
      "metadata": {
        "tags": [],
        "cell_id": "00013-e3e5acfe-b657-408e-8cca-297aa584f924",
        "deepnote_cell_type": "markdown"
      }
    },
    {
      "cell_type": "code",
      "source": "df2 = df[df['Year'] == 2010]\nfig = px.scatter(df2, x='NY.GDP.PCAP.PP.CD', y='SH.ALC.PCAP.LI',title=' Alcohol Consumption Rate VS GDP ',labels={\n                     \"SH.ALC.PCAP.LI\" : \"Alochol Consumption Rate\",\n                     \"NY.GDP.PCAP.PP.CD\"  : \"GDP\"\n                 })\nfig.show()",
      "metadata": {
        "tags": [],
        "cell_id": "00016-f0edd437-4ab2-41db-8eea-995b7b8eee03",
        "deepnote_to_be_reexecuted": false,
        "source_hash": "6bb0ba58",
        "execution_millis": 29,
        "execution_start": 1617746291413,
        "deepnote_cell_type": "code"
      },
      "outputs": [
        {
          "data": {
            "text/html": "<html>\n<head><meta charset=\"utf-8\" /></head>\n<body>\n    <div>            <script src=\"https://cdnjs.cloudflare.com/ajax/libs/mathjax/2.7.5/MathJax.js?config=TeX-AMS-MML_SVG\"></script><script type=\"text/javascript\">if (window.MathJax) {MathJax.Hub.Config({SVG: {font: \"STIX-Web\"}});}</script>                <script type=\"text/javascript\">window.PlotlyConfig = {MathJaxConfig: 'local'};</script>\n        <script src=\"https://cdn.plot.ly/plotly-latest.min.js\"></script>                <div id=\"bd5fb580-e817-4c9c-8b3d-5949d2f87a67\" class=\"plotly-graph-div\" style=\"height:525px; width:100%;\"></div>            <script type=\"text/javascript\">                                    window.PLOTLYENV=window.PLOTLYENV || {};                                    if (document.getElementById(\"bd5fb580-e817-4c9c-8b3d-5949d2f87a67\")) {                    Plotly.newPlot(                        \"bd5fb580-e817-4c9c-8b3d-5949d2f87a67\",                        [{\"hovertemplate\": \"GDP=%{x}<br>Alochol Consumption Rate=%{y}<extra></extra>\", \"legendgroup\": \"\", \"marker\": {\"color\": \"#636efa\", \"symbol\": \"circle\"}, \"mode\": \"markers\", \"name\": \"\", \"orientation\": \"v\", \"showlegend\": false, \"type\": \"scatter\", \"x\": [18061.9343588337, 14926.6376401599, 46873.0988793635, 14299.5516971693, 2681.8868169951, 958.920448342, 18161.8039224929, 9253.7651876772, 10731.6459149098, 11410.3487518272, 9090.3082334737, 9522.5101985566, 6127.0787428618, 32965.8995906495, 7771.3599435804, 2973.8328204944, 1653.7181992609, 3778.4605610207, 9460.2939869565, 19225.0769113976, 73965.9706060705, 1021.8589882888, 20508.7524452858, 1787.1615549381, 15260.6205539571, 6396.089271532, 7581.5633959447, 44291.839862405, 15153.5276243633, 3039.7862363282, 9993.032969683, 132048.128872705, 20490.1267193879, 1350.2073915899, 19387.8625270814, 75294.3565534751, 11721.5550561229, 31706.8774006978, 13548.5332166139, 2088.0980555019, 13195.3718823384, 1964.5443104189, 30528.8241797201, 10155.4811724094, 17555.5896489621, 2079.6534708001, 16817.0690377278, 3178.8727969192], \"xaxis\": \"x\", \"y\": [9.09, 2.97, 1.69, 8.49, 8.43, 3.98, 9.31, 7.07, 5.04, 6.11, 6.16, 0.36, 3.31, 9.2, 6.82, 4.26, 0.7000000000000001, 3.59, 0.64, 4.97, 0.032, 3.21, 1.32, 1.09, 5.21, 15.54, 9.65, 0.73, 6.84, 1.67, 7.58, 1.69, 15.87, 10.27, 10.19, 2.19, 10.04, 10.03, 6.22, 9.74, 7.71, 0.7000000000000001, 6.21, 1.4, 2.32, 13.5, 7.1, 5.43], \"yaxis\": \"y\"}],                        {\"legend\": {\"tracegroupgap\": 0}, \"template\": {\"data\": {\"bar\": [{\"error_x\": {\"color\": \"#2a3f5f\"}, \"error_y\": {\"color\": \"#2a3f5f\"}, \"marker\": {\"line\": {\"color\": \"#E5ECF6\", \"width\": 0.5}}, \"type\": \"bar\"}], \"barpolar\": [{\"marker\": {\"line\": {\"color\": \"#E5ECF6\", \"width\": 0.5}}, \"type\": \"barpolar\"}], \"carpet\": [{\"aaxis\": {\"endlinecolor\": \"#2a3f5f\", \"gridcolor\": \"white\", \"linecolor\": \"white\", \"minorgridcolor\": \"white\", \"startlinecolor\": \"#2a3f5f\"}, \"baxis\": {\"endlinecolor\": \"#2a3f5f\", \"gridcolor\": \"white\", \"linecolor\": \"white\", \"minorgridcolor\": \"white\", \"startlinecolor\": \"#2a3f5f\"}, \"type\": \"carpet\"}], \"choropleth\": [{\"colorbar\": {\"outlinewidth\": 0, \"ticks\": \"\"}, \"type\": \"choropleth\"}], \"contour\": [{\"colorbar\": {\"outlinewidth\": 0, \"ticks\": \"\"}, \"colorscale\": [[0.0, \"#0d0887\"], [0.1111111111111111, \"#46039f\"], [0.2222222222222222, \"#7201a8\"], [0.3333333333333333, \"#9c179e\"], [0.4444444444444444, \"#bd3786\"], [0.5555555555555556, \"#d8576b\"], [0.6666666666666666, \"#ed7953\"], [0.7777777777777778, \"#fb9f3a\"], [0.8888888888888888, \"#fdca26\"], [1.0, \"#f0f921\"]], \"type\": \"contour\"}], \"contourcarpet\": [{\"colorbar\": {\"outlinewidth\": 0, \"ticks\": \"\"}, \"type\": \"contourcarpet\"}], \"heatmap\": [{\"colorbar\": {\"outlinewidth\": 0, \"ticks\": \"\"}, \"colorscale\": [[0.0, \"#0d0887\"], [0.1111111111111111, \"#46039f\"], [0.2222222222222222, \"#7201a8\"], [0.3333333333333333, \"#9c179e\"], [0.4444444444444444, \"#bd3786\"], [0.5555555555555556, \"#d8576b\"], [0.6666666666666666, \"#ed7953\"], [0.7777777777777778, \"#fb9f3a\"], [0.8888888888888888, \"#fdca26\"], [1.0, \"#f0f921\"]], \"type\": \"heatmap\"}], \"heatmapgl\": [{\"colorbar\": {\"outlinewidth\": 0, \"ticks\": \"\"}, \"colorscale\": [[0.0, \"#0d0887\"], [0.1111111111111111, \"#46039f\"], [0.2222222222222222, \"#7201a8\"], [0.3333333333333333, \"#9c179e\"], [0.4444444444444444, \"#bd3786\"], [0.5555555555555556, \"#d8576b\"], [0.6666666666666666, \"#ed7953\"], [0.7777777777777778, \"#fb9f3a\"], [0.8888888888888888, \"#fdca26\"], [1.0, \"#f0f921\"]], \"type\": \"heatmapgl\"}], \"histogram\": [{\"marker\": {\"colorbar\": {\"outlinewidth\": 0, \"ticks\": \"\"}}, \"type\": \"histogram\"}], \"histogram2d\": [{\"colorbar\": {\"outlinewidth\": 0, \"ticks\": \"\"}, \"colorscale\": [[0.0, \"#0d0887\"], [0.1111111111111111, \"#46039f\"], [0.2222222222222222, \"#7201a8\"], [0.3333333333333333, \"#9c179e\"], [0.4444444444444444, \"#bd3786\"], [0.5555555555555556, \"#d8576b\"], [0.6666666666666666, \"#ed7953\"], [0.7777777777777778, \"#fb9f3a\"], [0.8888888888888888, \"#fdca26\"], [1.0, \"#f0f921\"]], \"type\": \"histogram2d\"}], \"histogram2dcontour\": [{\"colorbar\": {\"outlinewidth\": 0, \"ticks\": \"\"}, \"colorscale\": [[0.0, \"#0d0887\"], [0.1111111111111111, \"#46039f\"], [0.2222222222222222, \"#7201a8\"], [0.3333333333333333, \"#9c179e\"], [0.4444444444444444, \"#bd3786\"], [0.5555555555555556, \"#d8576b\"], [0.6666666666666666, \"#ed7953\"], [0.7777777777777778, \"#fb9f3a\"], [0.8888888888888888, \"#fdca26\"], [1.0, \"#f0f921\"]], \"type\": \"histogram2dcontour\"}], \"mesh3d\": [{\"colorbar\": {\"outlinewidth\": 0, \"ticks\": \"\"}, \"type\": \"mesh3d\"}], \"parcoords\": [{\"line\": {\"colorbar\": {\"outlinewidth\": 0, \"ticks\": \"\"}}, \"type\": \"parcoords\"}], \"pie\": [{\"automargin\": true, \"type\": \"pie\"}], \"scatter\": [{\"marker\": {\"colorbar\": {\"outlinewidth\": 0, \"ticks\": \"\"}}, \"type\": \"scatter\"}], \"scatter3d\": [{\"line\": {\"colorbar\": {\"outlinewidth\": 0, \"ticks\": \"\"}}, \"marker\": {\"colorbar\": {\"outlinewidth\": 0, \"ticks\": \"\"}}, \"type\": \"scatter3d\"}], \"scattercarpet\": [{\"marker\": {\"colorbar\": {\"outlinewidth\": 0, \"ticks\": \"\"}}, \"type\": \"scattercarpet\"}], \"scattergeo\": [{\"marker\": {\"colorbar\": {\"outlinewidth\": 0, \"ticks\": \"\"}}, \"type\": \"scattergeo\"}], \"scattergl\": [{\"marker\": {\"colorbar\": {\"outlinewidth\": 0, \"ticks\": \"\"}}, \"type\": \"scattergl\"}], \"scattermapbox\": [{\"marker\": {\"colorbar\": {\"outlinewidth\": 0, \"ticks\": \"\"}}, \"type\": \"scattermapbox\"}], \"scatterpolar\": [{\"marker\": {\"colorbar\": {\"outlinewidth\": 0, \"ticks\": \"\"}}, \"type\": \"scatterpolar\"}], \"scatterpolargl\": [{\"marker\": {\"colorbar\": {\"outlinewidth\": 0, \"ticks\": \"\"}}, \"type\": \"scatterpolargl\"}], \"scatterternary\": [{\"marker\": {\"colorbar\": {\"outlinewidth\": 0, \"ticks\": \"\"}}, \"type\": \"scatterternary\"}], \"surface\": [{\"colorbar\": {\"outlinewidth\": 0, \"ticks\": \"\"}, \"colorscale\": [[0.0, \"#0d0887\"], [0.1111111111111111, \"#46039f\"], [0.2222222222222222, \"#7201a8\"], [0.3333333333333333, \"#9c179e\"], [0.4444444444444444, \"#bd3786\"], [0.5555555555555556, \"#d8576b\"], [0.6666666666666666, \"#ed7953\"], [0.7777777777777778, \"#fb9f3a\"], [0.8888888888888888, \"#fdca26\"], [1.0, \"#f0f921\"]], \"type\": \"surface\"}], \"table\": [{\"cells\": {\"fill\": {\"color\": \"#EBF0F8\"}, \"line\": {\"color\": \"white\"}}, \"header\": {\"fill\": {\"color\": \"#C8D4E3\"}, \"line\": {\"color\": \"white\"}}, \"type\": \"table\"}]}, \"layout\": {\"annotationdefaults\": {\"arrowcolor\": \"#2a3f5f\", \"arrowhead\": 0, \"arrowwidth\": 1}, \"autotypenumbers\": \"strict\", \"coloraxis\": {\"colorbar\": {\"outlinewidth\": 0, \"ticks\": \"\"}}, \"colorscale\": {\"diverging\": [[0, \"#8e0152\"], [0.1, \"#c51b7d\"], [0.2, \"#de77ae\"], [0.3, \"#f1b6da\"], [0.4, \"#fde0ef\"], [0.5, \"#f7f7f7\"], [0.6, \"#e6f5d0\"], [0.7, \"#b8e186\"], [0.8, \"#7fbc41\"], [0.9, \"#4d9221\"], [1, \"#276419\"]], \"sequential\": [[0.0, \"#0d0887\"], [0.1111111111111111, \"#46039f\"], [0.2222222222222222, \"#7201a8\"], [0.3333333333333333, \"#9c179e\"], [0.4444444444444444, \"#bd3786\"], [0.5555555555555556, \"#d8576b\"], [0.6666666666666666, \"#ed7953\"], [0.7777777777777778, \"#fb9f3a\"], [0.8888888888888888, \"#fdca26\"], [1.0, \"#f0f921\"]], \"sequentialminus\": [[0.0, \"#0d0887\"], [0.1111111111111111, \"#46039f\"], [0.2222222222222222, \"#7201a8\"], [0.3333333333333333, \"#9c179e\"], [0.4444444444444444, \"#bd3786\"], [0.5555555555555556, \"#d8576b\"], [0.6666666666666666, \"#ed7953\"], [0.7777777777777778, \"#fb9f3a\"], [0.8888888888888888, \"#fdca26\"], [1.0, \"#f0f921\"]]}, \"colorway\": [\"#636efa\", \"#EF553B\", \"#00cc96\", \"#ab63fa\", \"#FFA15A\", \"#19d3f3\", \"#FF6692\", \"#B6E880\", \"#FF97FF\", \"#FECB52\"], \"font\": {\"color\": \"#2a3f5f\"}, \"geo\": {\"bgcolor\": \"white\", \"lakecolor\": \"white\", \"landcolor\": \"#E5ECF6\", \"showlakes\": true, \"showland\": true, \"subunitcolor\": \"white\"}, \"hoverlabel\": {\"align\": \"left\"}, \"hovermode\": \"closest\", \"mapbox\": {\"style\": \"light\"}, \"paper_bgcolor\": \"white\", \"plot_bgcolor\": \"#E5ECF6\", \"polar\": {\"angularaxis\": {\"gridcolor\": \"white\", \"linecolor\": \"white\", \"ticks\": \"\"}, \"bgcolor\": \"#E5ECF6\", \"radialaxis\": {\"gridcolor\": \"white\", \"linecolor\": \"white\", \"ticks\": \"\"}}, \"scene\": {\"xaxis\": {\"backgroundcolor\": \"#E5ECF6\", \"gridcolor\": \"white\", \"gridwidth\": 2, \"linecolor\": \"white\", \"showbackground\": true, \"ticks\": \"\", \"zerolinecolor\": \"white\"}, \"yaxis\": {\"backgroundcolor\": \"#E5ECF6\", \"gridcolor\": \"white\", \"gridwidth\": 2, \"linecolor\": \"white\", \"showbackground\": true, \"ticks\": \"\", \"zerolinecolor\": \"white\"}, \"zaxis\": {\"backgroundcolor\": \"#E5ECF6\", \"gridcolor\": \"white\", \"gridwidth\": 2, \"linecolor\": \"white\", \"showbackground\": true, \"ticks\": \"\", \"zerolinecolor\": \"white\"}}, \"shapedefaults\": {\"line\": {\"color\": \"#2a3f5f\"}}, \"ternary\": {\"aaxis\": {\"gridcolor\": \"white\", \"linecolor\": \"white\", \"ticks\": \"\"}, \"baxis\": {\"gridcolor\": \"white\", \"linecolor\": \"white\", \"ticks\": \"\"}, \"bgcolor\": \"#E5ECF6\", \"caxis\": {\"gridcolor\": \"white\", \"linecolor\": \"white\", \"ticks\": \"\"}}, \"title\": {\"x\": 0.05}, \"xaxis\": {\"automargin\": true, \"gridcolor\": \"white\", \"linecolor\": \"white\", \"ticks\": \"\", \"title\": {\"standoff\": 15}, \"zerolinecolor\": \"white\", \"zerolinewidth\": 2}, \"yaxis\": {\"automargin\": true, \"gridcolor\": \"white\", \"linecolor\": \"white\", \"ticks\": \"\", \"title\": {\"standoff\": 15}, \"zerolinecolor\": \"white\", \"zerolinewidth\": 2}}}, \"title\": {\"text\": \" Alcohol Consumption Rate VS GDP \"}, \"xaxis\": {\"anchor\": \"y\", \"domain\": [0.0, 1.0], \"title\": {\"text\": \"GDP\"}}, \"yaxis\": {\"anchor\": \"x\", \"domain\": [0.0, 1.0], \"title\": {\"text\": \"Alochol Consumption Rate\"}}},                        {\"responsive\": true}                    ).then(function(){\n                            \nvar gd = document.getElementById('bd5fb580-e817-4c9c-8b3d-5949d2f87a67');\nvar x = new MutationObserver(function (mutations, observer) {{\n        var display = window.getComputedStyle(gd).display;\n        if (!display || display === 'none') {{\n            console.log([gd, 'removed!']);\n            Plotly.purge(gd);\n            observer.disconnect();\n        }}\n}});\n\n// Listen for the removal of the full notebook cells\nvar notebookContainer = gd.closest('#notebook-container');\nif (notebookContainer) {{\n    x.observe(notebookContainer, {childList: true});\n}}\n\n// Listen for the clearing of the current output cell\nvar outputEl = gd.closest('.output');\nif (outputEl) {{\n    x.observe(outputEl, {childList: true});\n}}\n\n                        })                };                            </script>        </div>\n</body>\n</html>"
          },
          "metadata": {},
          "output_type": "display_data"
        }
      ],
      "execution_count": 7
    },
    {
      "cell_type": "markdown",
      "source": "**Total alcohol consumption per capita is mostly high where litercay rate is low **",
      "metadata": {
        "tags": [],
        "cell_id": "00015-85d88493-c53d-4878-8182-93d526341a6e",
        "deepnote_cell_type": "markdown"
      }
    },
    {
      "cell_type": "code",
      "metadata": {
        "tags": [],
        "cell_id": "00003-83ad03ea-ae52-4d21-836a-edc17a0b25a1",
        "deepnote_to_be_reexecuted": false,
        "source_hash": "39eec9ce",
        "execution_millis": 61,
        "execution_start": 1617746291479,
        "deepnote_cell_type": "code"
      },
      "source": "d1 = df[df['Year'] == 2015]\nfig = px.bar(d1, x='Region', y='SH.ALC.PCAP.LI',title=' Alcohol Consumption Rate VS Country ',labels={\n                     \"SH.ALC.PCAP.LI\" : \"Alochol Consumption Rate\"\n                 })\nfig.show()",
      "execution_count": 8,
      "outputs": [
        {
          "data": {
            "text/html": "<html>\n<head><meta charset=\"utf-8\" /></head>\n<body>\n    <div>            <script src=\"https://cdnjs.cloudflare.com/ajax/libs/mathjax/2.7.5/MathJax.js?config=TeX-AMS-MML_SVG\"></script><script type=\"text/javascript\">if (window.MathJax) {MathJax.Hub.Config({SVG: {font: \"STIX-Web\"}});}</script>                <script type=\"text/javascript\">window.PlotlyConfig = {MathJaxConfig: 'local'};</script>\n        <script src=\"https://cdn.plot.ly/plotly-latest.min.js\"></script>                <div id=\"1d312c8b-55ad-4da6-bfd7-83a00e7fb7fc\" class=\"plotly-graph-div\" style=\"height:525px; width:100%;\"></div>            <script type=\"text/javascript\">                                    window.PLOTLYENV=window.PLOTLYENV || {};                                    if (document.getElementById(\"1d312c8b-55ad-4da6-bfd7-83a00e7fb7fc\")) {                    Plotly.newPlot(                        \"1d312c8b-55ad-4da6-bfd7-83a00e7fb7fc\",                        [{\"alignmentgroup\": \"True\", \"hovertemplate\": \"Region=%{x}<br>Alochol Consumption Rate=%{y}<extra></extra>\", \"legendgroup\": \"\", \"marker\": {\"color\": \"#636efa\"}, \"name\": \"\", \"offsetgroup\": \"\", \"orientation\": \"v\", \"showlegend\": false, \"textposition\": \"auto\", \"type\": \"bar\", \"x\": [\"Latin America & Caribbean \", \"Europe & Central Asia\", \"Latin America & Caribbean \", \"Latin America & Caribbean \", \"Sub-Saharan Africa \", \"East Asia & Pacific\", \"Sub-Saharan Africa \", \"Latin America & Caribbean \", \"Latin America & Caribbean \", \"Latin America & Caribbean \", \"Latin America & Caribbean \", \"Latin America & Caribbean \", \"Sub-Saharan Africa \", \"Latin America & Caribbean \", \"East Asia & Pacific\", \"Middle East & North Africa\", \"East Asia & Pacific\", \"Sub-Saharan Africa \", \"Sub-Saharan Africa \", \"Latin America & Caribbean \", \"Sub-Saharan Africa \", \"Latin America & Caribbean \", \"Middle East & North Africa\", \"Latin America & Caribbean \", \"Latin America & Caribbean \", \"East Asia & Pacific\", \"East Asia & Pacific\", \"Sub-Saharan Africa \", \"Europe & Central Asia\", \"Sub-Saharan Africa \", \"East Asia & Pacific\", \"Sub-Saharan Africa \", \"Europe & Central Asia\", \"Middle East & North Africa\", \"Latin America & Caribbean \", \"Europe & Central Asia\"], \"xaxis\": \"x\", \"y\": [9.55, 4.58, 4.64, 7.86, 5.95, 6.37, 1.45, 9.26, 5.78, 6.61, 4.98, 3.59, 3.67, 3.49, 0.6000000000000001, 0.003, 10.05, 3.62, 1.25, 4.92, 2.19, 5.03, 0.77, 7.26, 6.63, 6.7, 2.07, 9.61, 11.32, 11.05, 8.36, 2.37, 2.12, 3.79, 6.99, 2.59], \"yaxis\": \"y\"}],                        {\"barmode\": \"relative\", \"legend\": {\"tracegroupgap\": 0}, \"template\": {\"data\": {\"bar\": [{\"error_x\": {\"color\": \"#2a3f5f\"}, \"error_y\": {\"color\": \"#2a3f5f\"}, \"marker\": {\"line\": {\"color\": \"#E5ECF6\", \"width\": 0.5}}, \"type\": \"bar\"}], \"barpolar\": [{\"marker\": {\"line\": {\"color\": \"#E5ECF6\", \"width\": 0.5}}, \"type\": \"barpolar\"}], \"carpet\": [{\"aaxis\": {\"endlinecolor\": \"#2a3f5f\", \"gridcolor\": \"white\", \"linecolor\": \"white\", \"minorgridcolor\": \"white\", \"startlinecolor\": \"#2a3f5f\"}, \"baxis\": {\"endlinecolor\": \"#2a3f5f\", \"gridcolor\": \"white\", \"linecolor\": \"white\", \"minorgridcolor\": \"white\", \"startlinecolor\": \"#2a3f5f\"}, \"type\": \"carpet\"}], \"choropleth\": [{\"colorbar\": {\"outlinewidth\": 0, \"ticks\": \"\"}, \"type\": \"choropleth\"}], \"contour\": [{\"colorbar\": {\"outlinewidth\": 0, \"ticks\": \"\"}, \"colorscale\": [[0.0, \"#0d0887\"], [0.1111111111111111, \"#46039f\"], [0.2222222222222222, \"#7201a8\"], [0.3333333333333333, \"#9c179e\"], [0.4444444444444444, \"#bd3786\"], [0.5555555555555556, \"#d8576b\"], [0.6666666666666666, \"#ed7953\"], [0.7777777777777778, \"#fb9f3a\"], [0.8888888888888888, \"#fdca26\"], [1.0, \"#f0f921\"]], \"type\": \"contour\"}], \"contourcarpet\": [{\"colorbar\": {\"outlinewidth\": 0, \"ticks\": \"\"}, \"type\": \"contourcarpet\"}], \"heatmap\": [{\"colorbar\": {\"outlinewidth\": 0, \"ticks\": \"\"}, \"colorscale\": [[0.0, \"#0d0887\"], [0.1111111111111111, \"#46039f\"], [0.2222222222222222, \"#7201a8\"], [0.3333333333333333, \"#9c179e\"], [0.4444444444444444, \"#bd3786\"], [0.5555555555555556, \"#d8576b\"], [0.6666666666666666, \"#ed7953\"], [0.7777777777777778, \"#fb9f3a\"], [0.8888888888888888, \"#fdca26\"], [1.0, \"#f0f921\"]], \"type\": \"heatmap\"}], \"heatmapgl\": [{\"colorbar\": {\"outlinewidth\": 0, \"ticks\": \"\"}, \"colorscale\": [[0.0, \"#0d0887\"], [0.1111111111111111, \"#46039f\"], [0.2222222222222222, \"#7201a8\"], [0.3333333333333333, \"#9c179e\"], [0.4444444444444444, \"#bd3786\"], [0.5555555555555556, \"#d8576b\"], [0.6666666666666666, \"#ed7953\"], [0.7777777777777778, \"#fb9f3a\"], [0.8888888888888888, \"#fdca26\"], [1.0, \"#f0f921\"]], \"type\": \"heatmapgl\"}], \"histogram\": [{\"marker\": {\"colorbar\": {\"outlinewidth\": 0, \"ticks\": \"\"}}, \"type\": \"histogram\"}], \"histogram2d\": [{\"colorbar\": {\"outlinewidth\": 0, \"ticks\": \"\"}, \"colorscale\": [[0.0, \"#0d0887\"], [0.1111111111111111, \"#46039f\"], [0.2222222222222222, \"#7201a8\"], [0.3333333333333333, \"#9c179e\"], [0.4444444444444444, \"#bd3786\"], [0.5555555555555556, \"#d8576b\"], [0.6666666666666666, \"#ed7953\"], [0.7777777777777778, \"#fb9f3a\"], [0.8888888888888888, \"#fdca26\"], [1.0, \"#f0f921\"]], \"type\": \"histogram2d\"}], \"histogram2dcontour\": [{\"colorbar\": {\"outlinewidth\": 0, \"ticks\": \"\"}, \"colorscale\": [[0.0, \"#0d0887\"], [0.1111111111111111, \"#46039f\"], [0.2222222222222222, \"#7201a8\"], [0.3333333333333333, \"#9c179e\"], [0.4444444444444444, \"#bd3786\"], [0.5555555555555556, \"#d8576b\"], [0.6666666666666666, \"#ed7953\"], [0.7777777777777778, \"#fb9f3a\"], [0.8888888888888888, \"#fdca26\"], [1.0, \"#f0f921\"]], \"type\": \"histogram2dcontour\"}], \"mesh3d\": [{\"colorbar\": {\"outlinewidth\": 0, \"ticks\": \"\"}, \"type\": \"mesh3d\"}], \"parcoords\": [{\"line\": {\"colorbar\": {\"outlinewidth\": 0, \"ticks\": \"\"}}, \"type\": \"parcoords\"}], \"pie\": [{\"automargin\": true, \"type\": \"pie\"}], \"scatter\": [{\"marker\": {\"colorbar\": {\"outlinewidth\": 0, \"ticks\": \"\"}}, \"type\": \"scatter\"}], \"scatter3d\": [{\"line\": {\"colorbar\": {\"outlinewidth\": 0, \"ticks\": \"\"}}, \"marker\": {\"colorbar\": {\"outlinewidth\": 0, \"ticks\": \"\"}}, \"type\": \"scatter3d\"}], \"scattercarpet\": [{\"marker\": {\"colorbar\": {\"outlinewidth\": 0, \"ticks\": \"\"}}, \"type\": \"scattercarpet\"}], \"scattergeo\": [{\"marker\": {\"colorbar\": {\"outlinewidth\": 0, \"ticks\": \"\"}}, \"type\": \"scattergeo\"}], \"scattergl\": [{\"marker\": {\"colorbar\": {\"outlinewidth\": 0, \"ticks\": \"\"}}, \"type\": \"scattergl\"}], \"scattermapbox\": [{\"marker\": {\"colorbar\": {\"outlinewidth\": 0, \"ticks\": \"\"}}, \"type\": \"scattermapbox\"}], \"scatterpolar\": [{\"marker\": {\"colorbar\": {\"outlinewidth\": 0, \"ticks\": \"\"}}, \"type\": \"scatterpolar\"}], \"scatterpolargl\": [{\"marker\": {\"colorbar\": {\"outlinewidth\": 0, \"ticks\": \"\"}}, \"type\": \"scatterpolargl\"}], \"scatterternary\": [{\"marker\": {\"colorbar\": {\"outlinewidth\": 0, \"ticks\": \"\"}}, \"type\": \"scatterternary\"}], \"surface\": [{\"colorbar\": {\"outlinewidth\": 0, \"ticks\": \"\"}, \"colorscale\": [[0.0, \"#0d0887\"], [0.1111111111111111, \"#46039f\"], [0.2222222222222222, \"#7201a8\"], [0.3333333333333333, \"#9c179e\"], [0.4444444444444444, \"#bd3786\"], [0.5555555555555556, \"#d8576b\"], [0.6666666666666666, \"#ed7953\"], [0.7777777777777778, \"#fb9f3a\"], [0.8888888888888888, \"#fdca26\"], [1.0, \"#f0f921\"]], \"type\": \"surface\"}], \"table\": [{\"cells\": {\"fill\": {\"color\": \"#EBF0F8\"}, \"line\": {\"color\": \"white\"}}, \"header\": {\"fill\": {\"color\": \"#C8D4E3\"}, \"line\": {\"color\": \"white\"}}, \"type\": \"table\"}]}, \"layout\": {\"annotationdefaults\": {\"arrowcolor\": \"#2a3f5f\", \"arrowhead\": 0, \"arrowwidth\": 1}, \"autotypenumbers\": \"strict\", \"coloraxis\": {\"colorbar\": {\"outlinewidth\": 0, \"ticks\": \"\"}}, \"colorscale\": {\"diverging\": [[0, \"#8e0152\"], [0.1, \"#c51b7d\"], [0.2, \"#de77ae\"], [0.3, \"#f1b6da\"], [0.4, \"#fde0ef\"], [0.5, \"#f7f7f7\"], [0.6, \"#e6f5d0\"], [0.7, \"#b8e186\"], [0.8, \"#7fbc41\"], [0.9, \"#4d9221\"], [1, \"#276419\"]], \"sequential\": [[0.0, \"#0d0887\"], [0.1111111111111111, \"#46039f\"], [0.2222222222222222, \"#7201a8\"], [0.3333333333333333, \"#9c179e\"], [0.4444444444444444, \"#bd3786\"], [0.5555555555555556, \"#d8576b\"], [0.6666666666666666, \"#ed7953\"], [0.7777777777777778, \"#fb9f3a\"], [0.8888888888888888, \"#fdca26\"], [1.0, \"#f0f921\"]], \"sequentialminus\": [[0.0, \"#0d0887\"], [0.1111111111111111, \"#46039f\"], [0.2222222222222222, \"#7201a8\"], [0.3333333333333333, \"#9c179e\"], [0.4444444444444444, \"#bd3786\"], [0.5555555555555556, \"#d8576b\"], [0.6666666666666666, \"#ed7953\"], [0.7777777777777778, \"#fb9f3a\"], [0.8888888888888888, \"#fdca26\"], [1.0, \"#f0f921\"]]}, \"colorway\": [\"#636efa\", \"#EF553B\", \"#00cc96\", \"#ab63fa\", \"#FFA15A\", \"#19d3f3\", \"#FF6692\", \"#B6E880\", \"#FF97FF\", \"#FECB52\"], \"font\": {\"color\": \"#2a3f5f\"}, \"geo\": {\"bgcolor\": \"white\", \"lakecolor\": \"white\", \"landcolor\": \"#E5ECF6\", \"showlakes\": true, \"showland\": true, \"subunitcolor\": \"white\"}, \"hoverlabel\": {\"align\": \"left\"}, \"hovermode\": \"closest\", \"mapbox\": {\"style\": \"light\"}, \"paper_bgcolor\": \"white\", \"plot_bgcolor\": \"#E5ECF6\", \"polar\": {\"angularaxis\": {\"gridcolor\": \"white\", \"linecolor\": \"white\", \"ticks\": \"\"}, \"bgcolor\": \"#E5ECF6\", \"radialaxis\": {\"gridcolor\": \"white\", \"linecolor\": \"white\", \"ticks\": \"\"}}, \"scene\": {\"xaxis\": {\"backgroundcolor\": \"#E5ECF6\", \"gridcolor\": \"white\", \"gridwidth\": 2, \"linecolor\": \"white\", \"showbackground\": true, \"ticks\": \"\", \"zerolinecolor\": \"white\"}, \"yaxis\": {\"backgroundcolor\": \"#E5ECF6\", \"gridcolor\": \"white\", \"gridwidth\": 2, \"linecolor\": \"white\", \"showbackground\": true, \"ticks\": \"\", \"zerolinecolor\": \"white\"}, \"zaxis\": {\"backgroundcolor\": \"#E5ECF6\", \"gridcolor\": \"white\", \"gridwidth\": 2, \"linecolor\": \"white\", \"showbackground\": true, \"ticks\": \"\", \"zerolinecolor\": \"white\"}}, \"shapedefaults\": {\"line\": {\"color\": \"#2a3f5f\"}}, \"ternary\": {\"aaxis\": {\"gridcolor\": \"white\", \"linecolor\": \"white\", \"ticks\": \"\"}, \"baxis\": {\"gridcolor\": \"white\", \"linecolor\": \"white\", \"ticks\": \"\"}, \"bgcolor\": \"#E5ECF6\", \"caxis\": {\"gridcolor\": \"white\", \"linecolor\": \"white\", \"ticks\": \"\"}}, \"title\": {\"x\": 0.05}, \"xaxis\": {\"automargin\": true, \"gridcolor\": \"white\", \"linecolor\": \"white\", \"ticks\": \"\", \"title\": {\"standoff\": 15}, \"zerolinecolor\": \"white\", \"zerolinewidth\": 2}, \"yaxis\": {\"automargin\": true, \"gridcolor\": \"white\", \"linecolor\": \"white\", \"ticks\": \"\", \"title\": {\"standoff\": 15}, \"zerolinecolor\": \"white\", \"zerolinewidth\": 2}}}, \"title\": {\"text\": \" Alcohol Consumption Rate VS Country \"}, \"xaxis\": {\"anchor\": \"y\", \"domain\": [0.0, 1.0], \"title\": {\"text\": \"Region\"}}, \"yaxis\": {\"anchor\": \"x\", \"domain\": [0.0, 1.0], \"title\": {\"text\": \"Alochol Consumption Rate\"}}},                        {\"responsive\": true}                    ).then(function(){\n                            \nvar gd = document.getElementById('1d312c8b-55ad-4da6-bfd7-83a00e7fb7fc');\nvar x = new MutationObserver(function (mutations, observer) {{\n        var display = window.getComputedStyle(gd).display;\n        if (!display || display === 'none') {{\n            console.log([gd, 'removed!']);\n            Plotly.purge(gd);\n            observer.disconnect();\n        }}\n}});\n\n// Listen for the removal of the full notebook cells\nvar notebookContainer = gd.closest('#notebook-container');\nif (notebookContainer) {{\n    x.observe(notebookContainer, {childList: true});\n}}\n\n// Listen for the clearing of the current output cell\nvar outputEl = gd.closest('.output');\nif (outputEl) {{\n    x.observe(outputEl, {childList: true});\n}}\n\n                        })                };                            </script>        </div>\n</body>\n</html>"
          },
          "metadata": {},
          "output_type": "display_data"
        }
      ]
    },
    {
      "cell_type": "code",
      "metadata": {
        "tags": [],
        "cell_id": "00004-f79544d7-27b2-48ea-bd28-800c7898794d",
        "deepnote_to_be_reexecuted": false,
        "source_hash": "a85edbd7",
        "execution_millis": 67,
        "execution_start": 1617746291572,
        "deepnote_cell_type": "code"
      },
      "source": "d1 = df[df['Year'] == 2015]\nfig = px.bar(d1, x='Region', y='NY.GDP.PCAP.PP.CD',title='GDP VS Country ',labels={\n                    \"NY.GDP.PCAP.PP.CD\"  : \"GDP\"\n                 })\nfig.show()\n",
      "execution_count": 9,
      "outputs": [
        {
          "data": {
            "text/html": "<html>\n<head><meta charset=\"utf-8\" /></head>\n<body>\n    <div>            <script src=\"https://cdnjs.cloudflare.com/ajax/libs/mathjax/2.7.5/MathJax.js?config=TeX-AMS-MML_SVG\"></script><script type=\"text/javascript\">if (window.MathJax) {MathJax.Hub.Config({SVG: {font: \"STIX-Web\"}});}</script>                <script type=\"text/javascript\">window.PlotlyConfig = {MathJaxConfig: 'local'};</script>\n        <script src=\"https://cdn.plot.ly/plotly-latest.min.js\"></script>                <div id=\"a026a733-adaf-42cd-b7c7-290efd40b1d4\" class=\"plotly-graph-div\" style=\"height:525px; width:100%;\"></div>            <script type=\"text/javascript\">                                    window.PLOTLYENV=window.PLOTLYENV || {};                                    if (document.getElementById(\"a026a733-adaf-42cd-b7c7-290efd40b1d4\")) {                    Plotly.newPlot(                        \"a026a733-adaf-42cd-b7c7-290efd40b1d4\",                        [{\"alignmentgroup\": \"True\", \"hovertemplate\": \"Region=%{x}<br>GDP=%{y}<extra></extra>\", \"legendgroup\": \"\", \"marker\": {\"color\": \"#636efa\"}, \"name\": \"\", \"offsetgroup\": \"\", \"orientation\": \"v\", \"showlegend\": false, \"textposition\": \"auto\", \"type\": \"bar\", \"x\": [\"Latin America & Caribbean \", \"Europe & Central Asia\", \"Latin America & Caribbean \", \"Latin America & Caribbean \", \"Sub-Saharan Africa \", \"East Asia & Pacific\", \"Sub-Saharan Africa \", \"Latin America & Caribbean \", \"Latin America & Caribbean \", \"Latin America & Caribbean \", \"Latin America & Caribbean \", \"Latin America & Caribbean \", \"Sub-Saharan Africa \", \"Latin America & Caribbean \", \"East Asia & Pacific\", \"Middle East & North Africa\", \"East Asia & Pacific\", \"Sub-Saharan Africa \", \"Sub-Saharan Africa \", \"Latin America & Caribbean \", \"Sub-Saharan Africa \", \"Latin America & Caribbean \", \"Middle East & North Africa\", \"Latin America & Caribbean \", \"Latin America & Caribbean \", \"East Asia & Pacific\", \"East Asia & Pacific\", \"Sub-Saharan Africa \", \"Europe & Central Asia\", \"Sub-Saharan Africa \", \"East Asia & Pacific\", \"Sub-Saharan Africa \", \"Europe & Central Asia\", \"Middle East & North Africa\", \"Latin America & Caribbean \", \"Europe & Central Asia\"], \"xaxis\": \"x\", \"y\": [20105.1989918165, 14938.4011276715, 7133.874457575, 14744.1129133865, 5994.3728324534, 3388.7374199775, 1820.0593928342, 22698.5494450875, 13265.7972569151, 14740.8196991498, 11060.2876329825, 7597.6855699406, 2066.8593586012, 4823.3890440186, 10247.206377812, 47230.6231915347, 6168.4776422143, 1018.9352624632, 2032.6551725229, 18301.4994177394, 1291.267985931, 5293.8653582741, 31113.3197962347, 11471.4942285323, 11572.3226921141, 7186.7688581811, 86974.7476230627, 12552.340126643, 34903.1274779473, 2348.4437285337, 15822.3532640938, 1397.3331649405, 25753.3918216624, 64901.8520246431, 20217.5841382315, 6343.1497417051], \"yaxis\": \"y\"}],                        {\"barmode\": \"relative\", \"legend\": {\"tracegroupgap\": 0}, \"template\": {\"data\": {\"bar\": [{\"error_x\": {\"color\": \"#2a3f5f\"}, \"error_y\": {\"color\": \"#2a3f5f\"}, \"marker\": {\"line\": {\"color\": \"#E5ECF6\", \"width\": 0.5}}, \"type\": \"bar\"}], \"barpolar\": [{\"marker\": {\"line\": {\"color\": \"#E5ECF6\", \"width\": 0.5}}, \"type\": \"barpolar\"}], \"carpet\": [{\"aaxis\": {\"endlinecolor\": \"#2a3f5f\", \"gridcolor\": \"white\", \"linecolor\": \"white\", \"minorgridcolor\": \"white\", \"startlinecolor\": \"#2a3f5f\"}, \"baxis\": {\"endlinecolor\": \"#2a3f5f\", \"gridcolor\": \"white\", \"linecolor\": \"white\", \"minorgridcolor\": \"white\", \"startlinecolor\": \"#2a3f5f\"}, \"type\": \"carpet\"}], \"choropleth\": [{\"colorbar\": {\"outlinewidth\": 0, \"ticks\": \"\"}, \"type\": \"choropleth\"}], \"contour\": [{\"colorbar\": {\"outlinewidth\": 0, \"ticks\": \"\"}, \"colorscale\": [[0.0, \"#0d0887\"], [0.1111111111111111, \"#46039f\"], [0.2222222222222222, \"#7201a8\"], [0.3333333333333333, \"#9c179e\"], [0.4444444444444444, \"#bd3786\"], [0.5555555555555556, \"#d8576b\"], [0.6666666666666666, \"#ed7953\"], [0.7777777777777778, \"#fb9f3a\"], [0.8888888888888888, \"#fdca26\"], [1.0, \"#f0f921\"]], \"type\": \"contour\"}], \"contourcarpet\": [{\"colorbar\": {\"outlinewidth\": 0, \"ticks\": \"\"}, \"type\": \"contourcarpet\"}], \"heatmap\": [{\"colorbar\": {\"outlinewidth\": 0, \"ticks\": \"\"}, \"colorscale\": [[0.0, \"#0d0887\"], [0.1111111111111111, \"#46039f\"], [0.2222222222222222, \"#7201a8\"], [0.3333333333333333, \"#9c179e\"], [0.4444444444444444, \"#bd3786\"], [0.5555555555555556, \"#d8576b\"], [0.6666666666666666, \"#ed7953\"], [0.7777777777777778, \"#fb9f3a\"], [0.8888888888888888, \"#fdca26\"], [1.0, \"#f0f921\"]], \"type\": \"heatmap\"}], \"heatmapgl\": [{\"colorbar\": {\"outlinewidth\": 0, \"ticks\": \"\"}, \"colorscale\": [[0.0, \"#0d0887\"], [0.1111111111111111, \"#46039f\"], [0.2222222222222222, \"#7201a8\"], [0.3333333333333333, \"#9c179e\"], [0.4444444444444444, \"#bd3786\"], [0.5555555555555556, \"#d8576b\"], [0.6666666666666666, \"#ed7953\"], [0.7777777777777778, \"#fb9f3a\"], [0.8888888888888888, \"#fdca26\"], [1.0, \"#f0f921\"]], \"type\": \"heatmapgl\"}], \"histogram\": [{\"marker\": {\"colorbar\": {\"outlinewidth\": 0, \"ticks\": \"\"}}, \"type\": \"histogram\"}], \"histogram2d\": [{\"colorbar\": {\"outlinewidth\": 0, \"ticks\": \"\"}, \"colorscale\": [[0.0, \"#0d0887\"], [0.1111111111111111, \"#46039f\"], [0.2222222222222222, \"#7201a8\"], [0.3333333333333333, \"#9c179e\"], [0.4444444444444444, \"#bd3786\"], [0.5555555555555556, \"#d8576b\"], [0.6666666666666666, \"#ed7953\"], [0.7777777777777778, \"#fb9f3a\"], [0.8888888888888888, \"#fdca26\"], [1.0, \"#f0f921\"]], \"type\": \"histogram2d\"}], \"histogram2dcontour\": [{\"colorbar\": {\"outlinewidth\": 0, \"ticks\": \"\"}, \"colorscale\": [[0.0, \"#0d0887\"], [0.1111111111111111, \"#46039f\"], [0.2222222222222222, \"#7201a8\"], [0.3333333333333333, \"#9c179e\"], [0.4444444444444444, \"#bd3786\"], [0.5555555555555556, \"#d8576b\"], [0.6666666666666666, \"#ed7953\"], [0.7777777777777778, \"#fb9f3a\"], [0.8888888888888888, \"#fdca26\"], [1.0, \"#f0f921\"]], \"type\": \"histogram2dcontour\"}], \"mesh3d\": [{\"colorbar\": {\"outlinewidth\": 0, \"ticks\": \"\"}, \"type\": \"mesh3d\"}], \"parcoords\": [{\"line\": {\"colorbar\": {\"outlinewidth\": 0, \"ticks\": \"\"}}, \"type\": \"parcoords\"}], \"pie\": [{\"automargin\": true, \"type\": \"pie\"}], \"scatter\": [{\"marker\": {\"colorbar\": {\"outlinewidth\": 0, \"ticks\": \"\"}}, \"type\": \"scatter\"}], \"scatter3d\": [{\"line\": {\"colorbar\": {\"outlinewidth\": 0, \"ticks\": \"\"}}, \"marker\": {\"colorbar\": {\"outlinewidth\": 0, \"ticks\": \"\"}}, \"type\": \"scatter3d\"}], \"scattercarpet\": [{\"marker\": {\"colorbar\": {\"outlinewidth\": 0, \"ticks\": \"\"}}, \"type\": \"scattercarpet\"}], \"scattergeo\": [{\"marker\": {\"colorbar\": {\"outlinewidth\": 0, \"ticks\": \"\"}}, \"type\": \"scattergeo\"}], \"scattergl\": [{\"marker\": {\"colorbar\": {\"outlinewidth\": 0, \"ticks\": \"\"}}, \"type\": \"scattergl\"}], \"scattermapbox\": [{\"marker\": {\"colorbar\": {\"outlinewidth\": 0, \"ticks\": \"\"}}, \"type\": \"scattermapbox\"}], \"scatterpolar\": [{\"marker\": {\"colorbar\": {\"outlinewidth\": 0, \"ticks\": \"\"}}, \"type\": \"scatterpolar\"}], \"scatterpolargl\": [{\"marker\": {\"colorbar\": {\"outlinewidth\": 0, \"ticks\": \"\"}}, \"type\": \"scatterpolargl\"}], \"scatterternary\": [{\"marker\": {\"colorbar\": {\"outlinewidth\": 0, \"ticks\": \"\"}}, \"type\": \"scatterternary\"}], \"surface\": [{\"colorbar\": {\"outlinewidth\": 0, \"ticks\": \"\"}, \"colorscale\": [[0.0, \"#0d0887\"], [0.1111111111111111, \"#46039f\"], [0.2222222222222222, \"#7201a8\"], [0.3333333333333333, \"#9c179e\"], [0.4444444444444444, \"#bd3786\"], [0.5555555555555556, \"#d8576b\"], [0.6666666666666666, \"#ed7953\"], [0.7777777777777778, \"#fb9f3a\"], [0.8888888888888888, \"#fdca26\"], [1.0, \"#f0f921\"]], \"type\": \"surface\"}], \"table\": [{\"cells\": {\"fill\": {\"color\": \"#EBF0F8\"}, \"line\": {\"color\": \"white\"}}, \"header\": {\"fill\": {\"color\": \"#C8D4E3\"}, \"line\": {\"color\": \"white\"}}, \"type\": \"table\"}]}, \"layout\": {\"annotationdefaults\": {\"arrowcolor\": \"#2a3f5f\", \"arrowhead\": 0, \"arrowwidth\": 1}, \"autotypenumbers\": \"strict\", \"coloraxis\": {\"colorbar\": {\"outlinewidth\": 0, \"ticks\": \"\"}}, \"colorscale\": {\"diverging\": [[0, \"#8e0152\"], [0.1, \"#c51b7d\"], [0.2, \"#de77ae\"], [0.3, \"#f1b6da\"], [0.4, \"#fde0ef\"], [0.5, \"#f7f7f7\"], [0.6, \"#e6f5d0\"], [0.7, \"#b8e186\"], [0.8, \"#7fbc41\"], [0.9, \"#4d9221\"], [1, \"#276419\"]], \"sequential\": [[0.0, \"#0d0887\"], [0.1111111111111111, \"#46039f\"], [0.2222222222222222, \"#7201a8\"], [0.3333333333333333, \"#9c179e\"], [0.4444444444444444, \"#bd3786\"], [0.5555555555555556, \"#d8576b\"], [0.6666666666666666, \"#ed7953\"], [0.7777777777777778, \"#fb9f3a\"], [0.8888888888888888, \"#fdca26\"], [1.0, \"#f0f921\"]], \"sequentialminus\": [[0.0, \"#0d0887\"], [0.1111111111111111, \"#46039f\"], [0.2222222222222222, \"#7201a8\"], [0.3333333333333333, \"#9c179e\"], [0.4444444444444444, \"#bd3786\"], [0.5555555555555556, \"#d8576b\"], [0.6666666666666666, \"#ed7953\"], [0.7777777777777778, \"#fb9f3a\"], [0.8888888888888888, \"#fdca26\"], [1.0, \"#f0f921\"]]}, \"colorway\": [\"#636efa\", \"#EF553B\", \"#00cc96\", \"#ab63fa\", \"#FFA15A\", \"#19d3f3\", \"#FF6692\", \"#B6E880\", \"#FF97FF\", \"#FECB52\"], \"font\": {\"color\": \"#2a3f5f\"}, \"geo\": {\"bgcolor\": \"white\", \"lakecolor\": \"white\", \"landcolor\": \"#E5ECF6\", \"showlakes\": true, \"showland\": true, \"subunitcolor\": \"white\"}, \"hoverlabel\": {\"align\": \"left\"}, \"hovermode\": \"closest\", \"mapbox\": {\"style\": \"light\"}, \"paper_bgcolor\": \"white\", \"plot_bgcolor\": \"#E5ECF6\", \"polar\": {\"angularaxis\": {\"gridcolor\": \"white\", \"linecolor\": \"white\", \"ticks\": \"\"}, \"bgcolor\": \"#E5ECF6\", \"radialaxis\": {\"gridcolor\": \"white\", \"linecolor\": \"white\", \"ticks\": \"\"}}, \"scene\": {\"xaxis\": {\"backgroundcolor\": \"#E5ECF6\", \"gridcolor\": \"white\", \"gridwidth\": 2, \"linecolor\": \"white\", \"showbackground\": true, \"ticks\": \"\", \"zerolinecolor\": \"white\"}, \"yaxis\": {\"backgroundcolor\": \"#E5ECF6\", \"gridcolor\": \"white\", \"gridwidth\": 2, \"linecolor\": \"white\", \"showbackground\": true, \"ticks\": \"\", \"zerolinecolor\": \"white\"}, \"zaxis\": {\"backgroundcolor\": \"#E5ECF6\", \"gridcolor\": \"white\", \"gridwidth\": 2, \"linecolor\": \"white\", \"showbackground\": true, \"ticks\": \"\", \"zerolinecolor\": \"white\"}}, \"shapedefaults\": {\"line\": {\"color\": \"#2a3f5f\"}}, \"ternary\": {\"aaxis\": {\"gridcolor\": \"white\", \"linecolor\": \"white\", \"ticks\": \"\"}, \"baxis\": {\"gridcolor\": \"white\", \"linecolor\": \"white\", \"ticks\": \"\"}, \"bgcolor\": \"#E5ECF6\", \"caxis\": {\"gridcolor\": \"white\", \"linecolor\": \"white\", \"ticks\": \"\"}}, \"title\": {\"x\": 0.05}, \"xaxis\": {\"automargin\": true, \"gridcolor\": \"white\", \"linecolor\": \"white\", \"ticks\": \"\", \"title\": {\"standoff\": 15}, \"zerolinecolor\": \"white\", \"zerolinewidth\": 2}, \"yaxis\": {\"automargin\": true, \"gridcolor\": \"white\", \"linecolor\": \"white\", \"ticks\": \"\", \"title\": {\"standoff\": 15}, \"zerolinecolor\": \"white\", \"zerolinewidth\": 2}}}, \"title\": {\"text\": \"GDP VS Country \"}, \"xaxis\": {\"anchor\": \"y\", \"domain\": [0.0, 1.0], \"title\": {\"text\": \"Region\"}}, \"yaxis\": {\"anchor\": \"x\", \"domain\": [0.0, 1.0], \"title\": {\"text\": \"GDP\"}}},                        {\"responsive\": true}                    ).then(function(){\n                            \nvar gd = document.getElementById('a026a733-adaf-42cd-b7c7-290efd40b1d4');\nvar x = new MutationObserver(function (mutations, observer) {{\n        var display = window.getComputedStyle(gd).display;\n        if (!display || display === 'none') {{\n            console.log([gd, 'removed!']);\n            Plotly.purge(gd);\n            observer.disconnect();\n        }}\n}});\n\n// Listen for the removal of the full notebook cells\nvar notebookContainer = gd.closest('#notebook-container');\nif (notebookContainer) {{\n    x.observe(notebookContainer, {childList: true});\n}}\n\n// Listen for the clearing of the current output cell\nvar outputEl = gd.closest('.output');\nif (outputEl) {{\n    x.observe(outputEl, {childList: true});\n}}\n\n                        })                };                            </script>        </div>\n</body>\n</html>"
          },
          "metadata": {},
          "output_type": "display_data"
        }
      ]
    },
    {
      "cell_type": "markdown",
      "source": "**Literacy Rate vs Children working (15-24yrs)**\n",
      "metadata": {
        "tags": [],
        "cell_id": "00013-e6cfbb86-b2aa-43e4-b6b0-4290336fde2a",
        "deepnote_cell_type": "markdown"
      }
    },
    {
      "cell_type": "code",
      "metadata": {
        "tags": [],
        "cell_id": "00005-bb2b8f85-ddf1-4c1b-8c5d-c6f24fcaa3e6",
        "deepnote_to_be_reexecuted": false,
        "source_hash": "bd0026a1",
        "execution_millis": 28,
        "execution_start": 1617746291630,
        "deepnote_cell_type": "code"
      },
      "source": "dff=pd.read_csv('wdi_data_children.csv')\ndff.head()",
      "execution_count": 10,
      "outputs": [
        {
          "output_type": "execute_result",
          "execution_count": 10,
          "data": {
            "application/vnd.deepnote.dataframe.v2+json": {
              "row_count": 5,
              "column_count": 10,
              "columns": [
                {
                  "name": "Unnamed: 0",
                  "dtype": "int64",
                  "stats": {
                    "unique_count": 5,
                    "nan_count": 0,
                    "min": 0,
                    "max": 4,
                    "histogram": [
                      {
                        "bin_start": 0,
                        "bin_end": 0.4,
                        "count": 1
                      },
                      {
                        "bin_start": 0.4,
                        "bin_end": 0.8,
                        "count": 0
                      },
                      {
                        "bin_start": 0.8,
                        "bin_end": 1.2000000000000002,
                        "count": 1
                      },
                      {
                        "bin_start": 1.2000000000000002,
                        "bin_end": 1.6,
                        "count": 0
                      },
                      {
                        "bin_start": 1.6,
                        "bin_end": 2,
                        "count": 0
                      },
                      {
                        "bin_start": 2,
                        "bin_end": 2.4000000000000004,
                        "count": 1
                      },
                      {
                        "bin_start": 2.4000000000000004,
                        "bin_end": 2.8000000000000003,
                        "count": 0
                      },
                      {
                        "bin_start": 2.8000000000000003,
                        "bin_end": 3.2,
                        "count": 1
                      },
                      {
                        "bin_start": 3.2,
                        "bin_end": 3.6,
                        "count": 0
                      },
                      {
                        "bin_start": 3.6,
                        "bin_end": 4,
                        "count": 1
                      }
                    ]
                  }
                },
                {
                  "name": "Year",
                  "dtype": "int64",
                  "stats": {
                    "unique_count": 4,
                    "nan_count": 0,
                    "min": 2011,
                    "max": 2015,
                    "histogram": [
                      {
                        "bin_start": 2011,
                        "bin_end": 2011.4,
                        "count": 1
                      },
                      {
                        "bin_start": 2011.4,
                        "bin_end": 2011.8,
                        "count": 0
                      },
                      {
                        "bin_start": 2011.8,
                        "bin_end": 2012.2,
                        "count": 2
                      },
                      {
                        "bin_start": 2012.2,
                        "bin_end": 2012.6,
                        "count": 0
                      },
                      {
                        "bin_start": 2012.6,
                        "bin_end": 2013,
                        "count": 0
                      },
                      {
                        "bin_start": 2013,
                        "bin_end": 2013.4,
                        "count": 1
                      },
                      {
                        "bin_start": 2013.4,
                        "bin_end": 2013.8,
                        "count": 0
                      },
                      {
                        "bin_start": 2013.8,
                        "bin_end": 2014.2,
                        "count": 0
                      },
                      {
                        "bin_start": 2014.2,
                        "bin_end": 2014.6,
                        "count": 0
                      },
                      {
                        "bin_start": 2014.6,
                        "bin_end": 2015,
                        "count": 1
                      }
                    ]
                  }
                },
                {
                  "name": "SL.TLF.0714.SW.ZS",
                  "dtype": "float64",
                  "stats": {
                    "unique_count": 5,
                    "nan_count": 0,
                    "min": 67.6,
                    "max": 96.4063159688,
                    "histogram": [
                      {
                        "bin_start": 67.6,
                        "bin_end": 70.48063159687999,
                        "count": 1
                      },
                      {
                        "bin_start": 70.48063159687999,
                        "bin_end": 73.36126319376,
                        "count": 0
                      },
                      {
                        "bin_start": 73.36126319376,
                        "bin_end": 76.24189479064,
                        "count": 0
                      },
                      {
                        "bin_start": 76.24189479064,
                        "bin_end": 79.12252638752,
                        "count": 0
                      },
                      {
                        "bin_start": 79.12252638752,
                        "bin_end": 82.00315798439999,
                        "count": 0
                      },
                      {
                        "bin_start": 82.00315798439999,
                        "bin_end": 84.88378958128,
                        "count": 0
                      },
                      {
                        "bin_start": 84.88378958128,
                        "bin_end": 87.76442117816,
                        "count": 0
                      },
                      {
                        "bin_start": 87.76442117816,
                        "bin_end": 90.64505277504,
                        "count": 0
                      },
                      {
                        "bin_start": 90.64505277504,
                        "bin_end": 93.52568437192,
                        "count": 1
                      },
                      {
                        "bin_start": 93.52568437192,
                        "bin_end": 96.4063159688,
                        "count": 3
                      }
                    ]
                  }
                },
                {
                  "name": "SE.ADT.1524.LT.FM.ZS",
                  "dtype": "float64",
                  "stats": {
                    "unique_count": 5,
                    "nan_count": 0,
                    "min": 0.6402500272,
                    "max": 1.0117399693,
                    "histogram": [
                      {
                        "bin_start": 0.6402500272,
                        "bin_end": 0.67739902141,
                        "count": 1
                      },
                      {
                        "bin_start": 0.67739902141,
                        "bin_end": 0.71454801562,
                        "count": 0
                      },
                      {
                        "bin_start": 0.71454801562,
                        "bin_end": 0.75169700983,
                        "count": 0
                      },
                      {
                        "bin_start": 0.75169700983,
                        "bin_end": 0.78884600404,
                        "count": 0
                      },
                      {
                        "bin_start": 0.78884600404,
                        "bin_end": 0.82599499825,
                        "count": 0
                      },
                      {
                        "bin_start": 0.82599499825,
                        "bin_end": 0.86314399246,
                        "count": 0
                      },
                      {
                        "bin_start": 0.86314399246,
                        "bin_end": 0.90029298667,
                        "count": 0
                      },
                      {
                        "bin_start": 0.90029298667,
                        "bin_end": 0.93744198088,
                        "count": 0
                      },
                      {
                        "bin_start": 0.93744198088,
                        "bin_end": 0.9745909750899999,
                        "count": 0
                      },
                      {
                        "bin_start": 0.9745909750899999,
                        "bin_end": 1.0117399693,
                        "count": 4
                      }
                    ]
                  }
                },
                {
                  "name": "NY.GDP.PCAP.PP.CD",
                  "dtype": "float64",
                  "stats": {
                    "unique_count": 5,
                    "nan_count": 0,
                    "min": 2498.49731338,
                    "max": 19641.3528638347,
                    "histogram": [
                      {
                        "bin_start": 2498.49731338,
                        "bin_end": 4212.78286842547,
                        "count": 1
                      },
                      {
                        "bin_start": 4212.78286842547,
                        "bin_end": 5927.068423470941,
                        "count": 0
                      },
                      {
                        "bin_start": 5927.068423470941,
                        "bin_end": 7641.35397851641,
                        "count": 1
                      },
                      {
                        "bin_start": 7641.35397851641,
                        "bin_end": 9355.63953356188,
                        "count": 0
                      },
                      {
                        "bin_start": 9355.63953356188,
                        "bin_end": 11069.92508860735,
                        "count": 0
                      },
                      {
                        "bin_start": 11069.92508860735,
                        "bin_end": 12784.210643652821,
                        "count": 0
                      },
                      {
                        "bin_start": 12784.210643652821,
                        "bin_end": 14498.49619869829,
                        "count": 0
                      },
                      {
                        "bin_start": 14498.49619869829,
                        "bin_end": 16212.78175374376,
                        "count": 2
                      },
                      {
                        "bin_start": 16212.78175374376,
                        "bin_end": 17927.067308789232,
                        "count": 0
                      },
                      {
                        "bin_start": 17927.067308789232,
                        "bin_end": 19641.3528638347,
                        "count": 1
                      }
                    ]
                  }
                },
                {
                  "name": "Country Code",
                  "dtype": "object",
                  "stats": {
                    "unique_count": 4,
                    "nan_count": 0,
                    "categories": [
                      {
                        "name": "BRA",
                        "count": 2
                      },
                      {
                        "name": "ARG",
                        "count": 1
                      },
                      {
                        "name": "2 others",
                        "count": 2
                      }
                    ]
                  }
                },
                {
                  "name": "Country Name",
                  "dtype": "object",
                  "stats": {
                    "unique_count": 4,
                    "nan_count": 0,
                    "categories": [
                      {
                        "name": "Brazil",
                        "count": 2
                      },
                      {
                        "name": "Argentina",
                        "count": 1
                      },
                      {
                        "name": "2 others",
                        "count": 2
                      }
                    ]
                  }
                },
                {
                  "name": "Region",
                  "dtype": "object",
                  "stats": {
                    "unique_count": 2,
                    "nan_count": 0,
                    "categories": [
                      {
                        "name": "Latin America & Caribbean ",
                        "count": 4
                      },
                      {
                        "name": "Sub-Saharan Africa ",
                        "count": 1
                      }
                    ]
                  }
                },
                {
                  "name": "Income Group",
                  "dtype": "object",
                  "stats": {
                    "unique_count": 2,
                    "nan_count": 0,
                    "categories": [
                      {
                        "name": "Upper middle income",
                        "count": 3
                      },
                      {
                        "name": "Lower middle income",
                        "count": 2
                      }
                    ]
                  }
                },
                {
                  "name": "Lending Type",
                  "dtype": "object",
                  "stats": {
                    "unique_count": 2,
                    "nan_count": 0,
                    "categories": [
                      {
                        "name": "IBRD",
                        "count": 4
                      },
                      {
                        "name": "IDA",
                        "count": 1
                      }
                    ]
                  }
                },
                {
                  "name": "_deepnote_index_column",
                  "dtype": "int64"
                }
              ],
              "rows_top": [
                {
                  "Unnamed: 0": 0,
                  "Year": 2012,
                  "SL.TLF.0714.SW.ZS": 95.24706,
                  "SE.ADT.1524.LT.FM.ZS": 1.0047199726,
                  "NY.GDP.PCAP.PP.CD": 19641.3528638347,
                  "Country Code": "ARG",
                  "Country Name": "Argentina",
                  "Region": "Latin America & Caribbean ",
                  "Income Group": "Upper middle income",
                  "Lending Type": "IBRD",
                  "_deepnote_index_column": 0
                },
                {
                  "Unnamed: 0": 1,
                  "Year": 2012,
                  "SL.TLF.0714.SW.ZS": 67.6,
                  "SE.ADT.1524.LT.FM.ZS": 0.6402500272,
                  "NY.GDP.PCAP.PP.CD": 2498.49731338,
                  "Country Code": "BEN",
                  "Country Name": "Benin",
                  "Region": "Sub-Saharan Africa ",
                  "Income Group": "Lower middle income",
                  "Lending Type": "IDA",
                  "_deepnote_index_column": 1
                },
                {
                  "Unnamed: 0": 2,
                  "Year": 2015,
                  "SL.TLF.0714.SW.ZS": 93.28,
                  "SE.ADT.1524.LT.FM.ZS": 1.0001000166,
                  "NY.GDP.PCAP.PP.CD": 7133.874457575,
                  "Country Code": "BOL",
                  "Country Name": "Bolivia",
                  "Region": "Latin America & Caribbean ",
                  "Income Group": "Lower middle income",
                  "Lending Type": "IBRD",
                  "_deepnote_index_column": 2
                },
                {
                  "Unnamed: 0": 3,
                  "Year": 2011,
                  "SL.TLF.0714.SW.ZS": 96.4063159688,
                  "SE.ADT.1524.LT.FM.ZS": 1.0117399693,
                  "NY.GDP.PCAP.PP.CD": 15040.0581828206,
                  "Country Code": "BRA",
                  "Country Name": "Brazil",
                  "Region": "Latin America & Caribbean ",
                  "Income Group": "Upper middle income",
                  "Lending Type": "IBRD",
                  "_deepnote_index_column": 3
                },
                {
                  "Unnamed: 0": 4,
                  "Year": 2013,
                  "SL.TLF.0714.SW.ZS": 95.00429,
                  "SE.ADT.1524.LT.FM.ZS": 1.0098500252,
                  "NY.GDP.PCAP.PP.CD": 15588.7262064568,
                  "Country Code": "BRA",
                  "Country Name": "Brazil",
                  "Region": "Latin America & Caribbean ",
                  "Income Group": "Upper middle income",
                  "Lending Type": "IBRD",
                  "_deepnote_index_column": 4
                }
              ],
              "rows_bottom": null
            },
            "text/plain": "   Unnamed: 0  Year  SL.TLF.0714.SW.ZS  SE.ADT.1524.LT.FM.ZS  \\\n0           0  2012          95.247060               1.00472   \n1           1  2012          67.600000               0.64025   \n2           2  2015          93.280000               1.00010   \n3           3  2011          96.406316               1.01174   \n4           4  2013          95.004290               1.00985   \n\n   NY.GDP.PCAP.PP.CD Country Code Country Name                      Region  \\\n0       19641.352864          ARG    Argentina  Latin America & Caribbean    \n1        2498.497313          BEN        Benin         Sub-Saharan Africa    \n2        7133.874458          BOL      Bolivia  Latin America & Caribbean    \n3       15040.058183          BRA       Brazil  Latin America & Caribbean    \n4       15588.726206          BRA       Brazil  Latin America & Caribbean    \n\n          Income Group Lending Type  \n0  Upper middle income         IBRD  \n1  Lower middle income          IDA  \n2  Lower middle income         IBRD  \n3  Upper middle income         IBRD  \n4  Upper middle income         IBRD  ",
            "text/html": "<div>\n<style scoped>\n    .dataframe tbody tr th:only-of-type {\n        vertical-align: middle;\n    }\n\n    .dataframe tbody tr th {\n        vertical-align: top;\n    }\n\n    .dataframe thead th {\n        text-align: right;\n    }\n</style>\n<table border=\"1\" class=\"dataframe\">\n  <thead>\n    <tr style=\"text-align: right;\">\n      <th></th>\n      <th>Unnamed: 0</th>\n      <th>Year</th>\n      <th>SL.TLF.0714.SW.ZS</th>\n      <th>SE.ADT.1524.LT.FM.ZS</th>\n      <th>NY.GDP.PCAP.PP.CD</th>\n      <th>Country Code</th>\n      <th>Country Name</th>\n      <th>Region</th>\n      <th>Income Group</th>\n      <th>Lending Type</th>\n    </tr>\n  </thead>\n  <tbody>\n    <tr>\n      <th>0</th>\n      <td>0</td>\n      <td>2012</td>\n      <td>95.247060</td>\n      <td>1.00472</td>\n      <td>19641.352864</td>\n      <td>ARG</td>\n      <td>Argentina</td>\n      <td>Latin America &amp; Caribbean</td>\n      <td>Upper middle income</td>\n      <td>IBRD</td>\n    </tr>\n    <tr>\n      <th>1</th>\n      <td>1</td>\n      <td>2012</td>\n      <td>67.600000</td>\n      <td>0.64025</td>\n      <td>2498.497313</td>\n      <td>BEN</td>\n      <td>Benin</td>\n      <td>Sub-Saharan Africa</td>\n      <td>Lower middle income</td>\n      <td>IDA</td>\n    </tr>\n    <tr>\n      <th>2</th>\n      <td>2</td>\n      <td>2015</td>\n      <td>93.280000</td>\n      <td>1.00010</td>\n      <td>7133.874458</td>\n      <td>BOL</td>\n      <td>Bolivia</td>\n      <td>Latin America &amp; Caribbean</td>\n      <td>Lower middle income</td>\n      <td>IBRD</td>\n    </tr>\n    <tr>\n      <th>3</th>\n      <td>3</td>\n      <td>2011</td>\n      <td>96.406316</td>\n      <td>1.01174</td>\n      <td>15040.058183</td>\n      <td>BRA</td>\n      <td>Brazil</td>\n      <td>Latin America &amp; Caribbean</td>\n      <td>Upper middle income</td>\n      <td>IBRD</td>\n    </tr>\n    <tr>\n      <th>4</th>\n      <td>4</td>\n      <td>2013</td>\n      <td>95.004290</td>\n      <td>1.00985</td>\n      <td>15588.726206</td>\n      <td>BRA</td>\n      <td>Brazil</td>\n      <td>Latin America &amp; Caribbean</td>\n      <td>Upper middle income</td>\n      <td>IBRD</td>\n    </tr>\n  </tbody>\n</table>\n</div>"
          },
          "metadata": {}
        }
      ]
    },
    {
      "cell_type": "markdown",
      "source": "For this scenario , a scatterplot answers my questions – Yes literacy rate is dependent upon Children employment – which means most of the students that are working might not be educated, illiterates and have never been to school. Whenever the children in employment is high the literacy rate is low and whenever the literacy rate is high , the children employment rate is low – which is also indirectly affective on GDP of a country from previous visualization.\n\nSo, from the analysis :\n\n- Children employment rate∝ (1/ Literacy rate)\n- Literacy rate∝ GDP\n- Children employment rate ∝ 1/GDP\n- So, Whenever there are more child employees in a country , its GDP decreases.\n\n",
      "metadata": {
        "tags": [],
        "cell_id": "00015-a9a018c9-43fd-4bb1-a818-a5d97ea4fa31",
        "deepnote_cell_type": "markdown"
      }
    },
    {
      "cell_type": "code",
      "metadata": {
        "tags": [],
        "cell_id": "00006-947833c5-48bf-40e4-b373-0381847ecd60",
        "deepnote_to_be_reexecuted": false,
        "source_hash": "dcf602a7",
        "execution_millis": 51,
        "execution_start": 1617746291660,
        "deepnote_cell_type": "code"
      },
      "source": "d2 = dff[dff['Year'] == 2010]\n\nfig = px.scatter(d2, x='SE.ADT.1524.LT.FM.ZS', y='SL.TLF.0714.SW.ZS',title=' Children in Employment %ge VS Literacy rate ',labels={\n                     \"SE.ADT.1524.LT.FM.ZS\" : \"Children in Employment %ge\",\n                     \"SL.TLF.0714.SW.ZS\"  : \" Literacy rate\"\n                 })\nfig.show()",
      "execution_count": 11,
      "outputs": [
        {
          "data": {
            "text/html": "<html>\n<head><meta charset=\"utf-8\" /></head>\n<body>\n    <div>            <script src=\"https://cdnjs.cloudflare.com/ajax/libs/mathjax/2.7.5/MathJax.js?config=TeX-AMS-MML_SVG\"></script><script type=\"text/javascript\">if (window.MathJax) {MathJax.Hub.Config({SVG: {font: \"STIX-Web\"}});}</script>                <script type=\"text/javascript\">window.PlotlyConfig = {MathJaxConfig: 'local'};</script>\n        <script src=\"https://cdn.plot.ly/plotly-latest.min.js\"></script>                <div id=\"5c08b9b0-67a8-45fb-8890-3231e4df8f07\" class=\"plotly-graph-div\" style=\"height:525px; width:100%;\"></div>            <script type=\"text/javascript\">                                    window.PLOTLYENV=window.PLOTLYENV || {};                                    if (document.getElementById(\"5c08b9b0-67a8-45fb-8890-3231e4df8f07\")) {                    Plotly.newPlot(                        \"5c08b9b0-67a8-45fb-8890-3231e4df8f07\",                        [{\"hovertemplate\": \"Children in Employment %ge=%{x}<br> Literacy rate=%{y}<extra></extra>\", \"legendgroup\": \"\", \"marker\": {\"color\": \"#636efa\", \"symbol\": \"circle\"}, \"mode\": \"markers\", \"name\": \"\", \"orientation\": \"v\", \"showlegend\": false, \"type\": \"scatter\", \"x\": [0.5520499945, 1.0270299911, 0.5802099705, 1.0011800528, 0.993900001, 1.0168499947], \"xaxis\": \"x\", \"y\": [75.1866556178, 97.5636876629, 54.6, 73.4, 83.5, 92.0611729667], \"yaxis\": \"y\"}],                        {\"legend\": {\"tracegroupgap\": 0}, \"template\": {\"data\": {\"bar\": [{\"error_x\": {\"color\": \"#2a3f5f\"}, \"error_y\": {\"color\": \"#2a3f5f\"}, \"marker\": {\"line\": {\"color\": \"#E5ECF6\", \"width\": 0.5}}, \"type\": \"bar\"}], \"barpolar\": [{\"marker\": {\"line\": {\"color\": \"#E5ECF6\", \"width\": 0.5}}, \"type\": \"barpolar\"}], \"carpet\": [{\"aaxis\": {\"endlinecolor\": \"#2a3f5f\", \"gridcolor\": \"white\", \"linecolor\": \"white\", \"minorgridcolor\": \"white\", \"startlinecolor\": \"#2a3f5f\"}, \"baxis\": {\"endlinecolor\": \"#2a3f5f\", \"gridcolor\": \"white\", \"linecolor\": \"white\", \"minorgridcolor\": \"white\", \"startlinecolor\": \"#2a3f5f\"}, \"type\": \"carpet\"}], \"choropleth\": [{\"colorbar\": {\"outlinewidth\": 0, \"ticks\": \"\"}, \"type\": \"choropleth\"}], \"contour\": [{\"colorbar\": {\"outlinewidth\": 0, \"ticks\": \"\"}, \"colorscale\": [[0.0, \"#0d0887\"], [0.1111111111111111, \"#46039f\"], [0.2222222222222222, \"#7201a8\"], [0.3333333333333333, \"#9c179e\"], [0.4444444444444444, \"#bd3786\"], [0.5555555555555556, \"#d8576b\"], [0.6666666666666666, \"#ed7953\"], [0.7777777777777778, \"#fb9f3a\"], [0.8888888888888888, \"#fdca26\"], [1.0, \"#f0f921\"]], \"type\": \"contour\"}], \"contourcarpet\": [{\"colorbar\": {\"outlinewidth\": 0, \"ticks\": \"\"}, \"type\": \"contourcarpet\"}], \"heatmap\": [{\"colorbar\": {\"outlinewidth\": 0, \"ticks\": \"\"}, \"colorscale\": [[0.0, \"#0d0887\"], [0.1111111111111111, \"#46039f\"], [0.2222222222222222, \"#7201a8\"], [0.3333333333333333, \"#9c179e\"], [0.4444444444444444, \"#bd3786\"], [0.5555555555555556, \"#d8576b\"], [0.6666666666666666, \"#ed7953\"], [0.7777777777777778, \"#fb9f3a\"], [0.8888888888888888, \"#fdca26\"], [1.0, \"#f0f921\"]], \"type\": \"heatmap\"}], \"heatmapgl\": [{\"colorbar\": {\"outlinewidth\": 0, \"ticks\": \"\"}, \"colorscale\": [[0.0, \"#0d0887\"], [0.1111111111111111, \"#46039f\"], [0.2222222222222222, \"#7201a8\"], [0.3333333333333333, \"#9c179e\"], [0.4444444444444444, \"#bd3786\"], [0.5555555555555556, \"#d8576b\"], [0.6666666666666666, \"#ed7953\"], [0.7777777777777778, \"#fb9f3a\"], [0.8888888888888888, \"#fdca26\"], [1.0, \"#f0f921\"]], \"type\": \"heatmapgl\"}], \"histogram\": [{\"marker\": {\"colorbar\": {\"outlinewidth\": 0, \"ticks\": \"\"}}, \"type\": \"histogram\"}], \"histogram2d\": [{\"colorbar\": {\"outlinewidth\": 0, \"ticks\": \"\"}, \"colorscale\": [[0.0, \"#0d0887\"], [0.1111111111111111, \"#46039f\"], [0.2222222222222222, \"#7201a8\"], [0.3333333333333333, \"#9c179e\"], [0.4444444444444444, \"#bd3786\"], [0.5555555555555556, \"#d8576b\"], [0.6666666666666666, \"#ed7953\"], [0.7777777777777778, \"#fb9f3a\"], [0.8888888888888888, \"#fdca26\"], [1.0, \"#f0f921\"]], \"type\": \"histogram2d\"}], \"histogram2dcontour\": [{\"colorbar\": {\"outlinewidth\": 0, \"ticks\": \"\"}, \"colorscale\": [[0.0, \"#0d0887\"], [0.1111111111111111, \"#46039f\"], [0.2222222222222222, \"#7201a8\"], [0.3333333333333333, \"#9c179e\"], [0.4444444444444444, \"#bd3786\"], [0.5555555555555556, \"#d8576b\"], [0.6666666666666666, \"#ed7953\"], [0.7777777777777778, \"#fb9f3a\"], [0.8888888888888888, \"#fdca26\"], [1.0, \"#f0f921\"]], \"type\": \"histogram2dcontour\"}], \"mesh3d\": [{\"colorbar\": {\"outlinewidth\": 0, \"ticks\": \"\"}, \"type\": \"mesh3d\"}], \"parcoords\": [{\"line\": {\"colorbar\": {\"outlinewidth\": 0, \"ticks\": \"\"}}, \"type\": \"parcoords\"}], \"pie\": [{\"automargin\": true, \"type\": \"pie\"}], \"scatter\": [{\"marker\": {\"colorbar\": {\"outlinewidth\": 0, \"ticks\": \"\"}}, \"type\": \"scatter\"}], \"scatter3d\": [{\"line\": {\"colorbar\": {\"outlinewidth\": 0, \"ticks\": \"\"}}, \"marker\": {\"colorbar\": {\"outlinewidth\": 0, \"ticks\": \"\"}}, \"type\": \"scatter3d\"}], \"scattercarpet\": [{\"marker\": {\"colorbar\": {\"outlinewidth\": 0, \"ticks\": \"\"}}, \"type\": \"scattercarpet\"}], \"scattergeo\": [{\"marker\": {\"colorbar\": {\"outlinewidth\": 0, \"ticks\": \"\"}}, \"type\": \"scattergeo\"}], \"scattergl\": [{\"marker\": {\"colorbar\": {\"outlinewidth\": 0, \"ticks\": \"\"}}, \"type\": \"scattergl\"}], \"scattermapbox\": [{\"marker\": {\"colorbar\": {\"outlinewidth\": 0, \"ticks\": \"\"}}, \"type\": \"scattermapbox\"}], \"scatterpolar\": [{\"marker\": {\"colorbar\": {\"outlinewidth\": 0, \"ticks\": \"\"}}, \"type\": \"scatterpolar\"}], \"scatterpolargl\": [{\"marker\": {\"colorbar\": {\"outlinewidth\": 0, \"ticks\": \"\"}}, \"type\": \"scatterpolargl\"}], \"scatterternary\": [{\"marker\": {\"colorbar\": {\"outlinewidth\": 0, \"ticks\": \"\"}}, \"type\": \"scatterternary\"}], \"surface\": [{\"colorbar\": {\"outlinewidth\": 0, \"ticks\": \"\"}, \"colorscale\": [[0.0, \"#0d0887\"], [0.1111111111111111, \"#46039f\"], [0.2222222222222222, \"#7201a8\"], [0.3333333333333333, \"#9c179e\"], [0.4444444444444444, \"#bd3786\"], [0.5555555555555556, \"#d8576b\"], [0.6666666666666666, \"#ed7953\"], [0.7777777777777778, \"#fb9f3a\"], [0.8888888888888888, \"#fdca26\"], [1.0, \"#f0f921\"]], \"type\": \"surface\"}], \"table\": [{\"cells\": {\"fill\": {\"color\": \"#EBF0F8\"}, \"line\": {\"color\": \"white\"}}, \"header\": {\"fill\": {\"color\": \"#C8D4E3\"}, \"line\": {\"color\": \"white\"}}, \"type\": \"table\"}]}, \"layout\": {\"annotationdefaults\": {\"arrowcolor\": \"#2a3f5f\", \"arrowhead\": 0, \"arrowwidth\": 1}, \"autotypenumbers\": \"strict\", \"coloraxis\": {\"colorbar\": {\"outlinewidth\": 0, \"ticks\": \"\"}}, \"colorscale\": {\"diverging\": [[0, \"#8e0152\"], [0.1, \"#c51b7d\"], [0.2, \"#de77ae\"], [0.3, \"#f1b6da\"], [0.4, \"#fde0ef\"], [0.5, \"#f7f7f7\"], [0.6, \"#e6f5d0\"], [0.7, \"#b8e186\"], [0.8, \"#7fbc41\"], [0.9, \"#4d9221\"], [1, \"#276419\"]], \"sequential\": [[0.0, \"#0d0887\"], [0.1111111111111111, \"#46039f\"], [0.2222222222222222, \"#7201a8\"], [0.3333333333333333, \"#9c179e\"], [0.4444444444444444, \"#bd3786\"], [0.5555555555555556, \"#d8576b\"], [0.6666666666666666, \"#ed7953\"], [0.7777777777777778, \"#fb9f3a\"], [0.8888888888888888, \"#fdca26\"], [1.0, \"#f0f921\"]], \"sequentialminus\": [[0.0, \"#0d0887\"], [0.1111111111111111, \"#46039f\"], [0.2222222222222222, \"#7201a8\"], [0.3333333333333333, \"#9c179e\"], [0.4444444444444444, \"#bd3786\"], [0.5555555555555556, \"#d8576b\"], [0.6666666666666666, \"#ed7953\"], [0.7777777777777778, \"#fb9f3a\"], [0.8888888888888888, \"#fdca26\"], [1.0, \"#f0f921\"]]}, \"colorway\": [\"#636efa\", \"#EF553B\", \"#00cc96\", \"#ab63fa\", \"#FFA15A\", \"#19d3f3\", \"#FF6692\", \"#B6E880\", \"#FF97FF\", \"#FECB52\"], \"font\": {\"color\": \"#2a3f5f\"}, \"geo\": {\"bgcolor\": \"white\", \"lakecolor\": \"white\", \"landcolor\": \"#E5ECF6\", \"showlakes\": true, \"showland\": true, \"subunitcolor\": \"white\"}, \"hoverlabel\": {\"align\": \"left\"}, \"hovermode\": \"closest\", \"mapbox\": {\"style\": \"light\"}, \"paper_bgcolor\": \"white\", \"plot_bgcolor\": \"#E5ECF6\", \"polar\": {\"angularaxis\": {\"gridcolor\": \"white\", \"linecolor\": \"white\", \"ticks\": \"\"}, \"bgcolor\": \"#E5ECF6\", \"radialaxis\": {\"gridcolor\": \"white\", \"linecolor\": \"white\", \"ticks\": \"\"}}, \"scene\": {\"xaxis\": {\"backgroundcolor\": \"#E5ECF6\", \"gridcolor\": \"white\", \"gridwidth\": 2, \"linecolor\": \"white\", \"showbackground\": true, \"ticks\": \"\", \"zerolinecolor\": \"white\"}, \"yaxis\": {\"backgroundcolor\": \"#E5ECF6\", \"gridcolor\": \"white\", \"gridwidth\": 2, \"linecolor\": \"white\", \"showbackground\": true, \"ticks\": \"\", \"zerolinecolor\": \"white\"}, \"zaxis\": {\"backgroundcolor\": \"#E5ECF6\", \"gridcolor\": \"white\", \"gridwidth\": 2, \"linecolor\": \"white\", \"showbackground\": true, \"ticks\": \"\", \"zerolinecolor\": \"white\"}}, \"shapedefaults\": {\"line\": {\"color\": \"#2a3f5f\"}}, \"ternary\": {\"aaxis\": {\"gridcolor\": \"white\", \"linecolor\": \"white\", \"ticks\": \"\"}, \"baxis\": {\"gridcolor\": \"white\", \"linecolor\": \"white\", \"ticks\": \"\"}, \"bgcolor\": \"#E5ECF6\", \"caxis\": {\"gridcolor\": \"white\", \"linecolor\": \"white\", \"ticks\": \"\"}}, \"title\": {\"x\": 0.05}, \"xaxis\": {\"automargin\": true, \"gridcolor\": \"white\", \"linecolor\": \"white\", \"ticks\": \"\", \"title\": {\"standoff\": 15}, \"zerolinecolor\": \"white\", \"zerolinewidth\": 2}, \"yaxis\": {\"automargin\": true, \"gridcolor\": \"white\", \"linecolor\": \"white\", \"ticks\": \"\", \"title\": {\"standoff\": 15}, \"zerolinecolor\": \"white\", \"zerolinewidth\": 2}}}, \"title\": {\"text\": \" Children in Employment %ge VS Literacy rate \"}, \"xaxis\": {\"anchor\": \"y\", \"domain\": [0.0, 1.0], \"title\": {\"text\": \"Children in Employment %ge\"}}, \"yaxis\": {\"anchor\": \"x\", \"domain\": [0.0, 1.0], \"title\": {\"text\": \" Literacy rate\"}}},                        {\"responsive\": true}                    ).then(function(){\n                            \nvar gd = document.getElementById('5c08b9b0-67a8-45fb-8890-3231e4df8f07');\nvar x = new MutationObserver(function (mutations, observer) {{\n        var display = window.getComputedStyle(gd).display;\n        if (!display || display === 'none') {{\n            console.log([gd, 'removed!']);\n            Plotly.purge(gd);\n            observer.disconnect();\n        }}\n}});\n\n// Listen for the removal of the full notebook cells\nvar notebookContainer = gd.closest('#notebook-container');\nif (notebookContainer) {{\n    x.observe(notebookContainer, {childList: true});\n}}\n\n// Listen for the clearing of the current output cell\nvar outputEl = gd.closest('.output');\nif (outputEl) {{\n    x.observe(outputEl, {childList: true});\n}}\n\n                        })                };                            </script>        </div>\n</body>\n</html>"
          },
          "metadata": {},
          "output_type": "display_data"
        }
      ]
    },
    {
      "cell_type": "markdown",
      "source": "**Literacy rate GPI vs GDP**\n",
      "metadata": {
        "tags": [],
        "cell_id": "00017-66c706da-5816-46fe-b50e-7fa881ba77bf",
        "deepnote_cell_type": "markdown"
      }
    },
    {
      "cell_type": "code",
      "metadata": {
        "tags": [],
        "cell_id": "00007-ea48f922-94f5-4c13-a3b1-848e3203de5a",
        "deepnote_to_be_reexecuted": false,
        "source_hash": "9b099cf6",
        "execution_millis": 65,
        "execution_start": 1617746291707,
        "deepnote_cell_type": "code"
      },
      "source": "fig = px.scatter(dff, x='NY.GDP.PCAP.PP.CD', y='SE.ADT.1524.LT.FM.ZS',title=' GDP VS Literacy rate ',labels={\n                     \"NY.GDP.PCAP.PP.CD\" : \"GDP\",\n                     \"SE.ADT.1524.LT.FM.ZS\"  : \" Literacy rate\"\n                 })\nfig.show()\n",
      "execution_count": 12,
      "outputs": [
        {
          "data": {
            "text/html": "<html>\n<head><meta charset=\"utf-8\" /></head>\n<body>\n    <div>            <script src=\"https://cdnjs.cloudflare.com/ajax/libs/mathjax/2.7.5/MathJax.js?config=TeX-AMS-MML_SVG\"></script><script type=\"text/javascript\">if (window.MathJax) {MathJax.Hub.Config({SVG: {font: \"STIX-Web\"}});}</script>                <script type=\"text/javascript\">window.PlotlyConfig = {MathJaxConfig: 'local'};</script>\n        <script src=\"https://cdn.plot.ly/plotly-latest.min.js\"></script>                <div id=\"4a417d30-a9ed-41dd-8ae3-2110a43cf26a\" class=\"plotly-graph-div\" style=\"height:525px; width:100%;\"></div>            <script type=\"text/javascript\">                                    window.PLOTLYENV=window.PLOTLYENV || {};                                    if (document.getElementById(\"4a417d30-a9ed-41dd-8ae3-2110a43cf26a\")) {                    Plotly.newPlot(                        \"4a417d30-a9ed-41dd-8ae3-2110a43cf26a\",                        [{\"hovertemplate\": \"GDP=%{x}<br> Literacy rate=%{y}<extra></extra>\", \"legendgroup\": \"\", \"marker\": {\"color\": \"#636efa\", \"symbol\": \"circle\"}, \"mode\": \"markers\", \"name\": \"\", \"orientation\": \"v\", \"showlegend\": false, \"type\": \"scatter\", \"x\": [19641.3528638347, 2498.49731338, 7133.874457575, 15040.0581828206, 15588.7262064568, 15718.5656477083, 14744.1129133865, 958.920448342, 1820.0593928342, 13307.4245015783, 13265.7972569151, 13387.5721512729, 2626.06838276, 11900.4909965793, 13475.0164700416, 9857.5218161362, 11060.2876329825, 6465.8106358369, 6877.1560880577, 7771.3599435804, 15356.1915415561, 2066.8593586012, 7320.1534171854, 7758.4931351181, 1653.7181992609, 1378.2326541905, 3928.2680750057, 4142.2398681578, 4452.5830191136, 1078.980573455, 1018.9352624632, 15260.6205539571, 16520.2585085371, 17373.8970180913, 1158.6701924245, 15153.5276243633, 11425.6611376997, 11510.2838491968, 11572.3226921141, 1350.2073915899, 1707.6730849759, 2682.693606237, 1746.5544651287, 10217.1250903037, 2005.2061577457, 9343.3307396608], \"xaxis\": \"x\", \"y\": [1.0047199726, 0.6402500272, 1.0001000166, 1.0117399693, 1.0098500252, 1.0080900192, 1.0075600147, 0.5520499945, 0.5014600158, 1.0087499619, 1.0076800585, 1.0025199652, 0.6643000245, 1.0147999525, 1.0070500374, 1.002210021, 0.9957200289, 1.0082000494, 1.0056699514, 1.0270299911, 1.0228099823, 0.9109899998, 0.9630900025, 0.9768300056, 0.5802099705, 0.6983299851, 1.0205800533, 1.0254199505, 1.0129300356, 0.9308000207, 1.0121799707, 1.0011800528, 1.0009100437, 1.0007599592, 0.6516799927, 0.993900001, 0.9949399829, 0.9962900281, 0.9952999949, 1.0168499947, 1.0283800364, 0.7967799902, 0.7881100178, 0.9769999981, 0.9521300197, 1.0002599955], \"yaxis\": \"y\"}],                        {\"legend\": {\"tracegroupgap\": 0}, \"template\": {\"data\": {\"bar\": [{\"error_x\": {\"color\": \"#2a3f5f\"}, \"error_y\": {\"color\": \"#2a3f5f\"}, \"marker\": {\"line\": {\"color\": \"#E5ECF6\", \"width\": 0.5}}, \"type\": \"bar\"}], \"barpolar\": [{\"marker\": {\"line\": {\"color\": \"#E5ECF6\", \"width\": 0.5}}, \"type\": \"barpolar\"}], \"carpet\": [{\"aaxis\": {\"endlinecolor\": \"#2a3f5f\", \"gridcolor\": \"white\", \"linecolor\": \"white\", \"minorgridcolor\": \"white\", \"startlinecolor\": \"#2a3f5f\"}, \"baxis\": {\"endlinecolor\": \"#2a3f5f\", \"gridcolor\": \"white\", \"linecolor\": \"white\", \"minorgridcolor\": \"white\", \"startlinecolor\": \"#2a3f5f\"}, \"type\": \"carpet\"}], \"choropleth\": [{\"colorbar\": {\"outlinewidth\": 0, \"ticks\": \"\"}, \"type\": \"choropleth\"}], \"contour\": [{\"colorbar\": {\"outlinewidth\": 0, \"ticks\": \"\"}, \"colorscale\": [[0.0, \"#0d0887\"], [0.1111111111111111, \"#46039f\"], [0.2222222222222222, \"#7201a8\"], [0.3333333333333333, \"#9c179e\"], [0.4444444444444444, \"#bd3786\"], [0.5555555555555556, \"#d8576b\"], [0.6666666666666666, \"#ed7953\"], [0.7777777777777778, \"#fb9f3a\"], [0.8888888888888888, \"#fdca26\"], [1.0, \"#f0f921\"]], \"type\": \"contour\"}], \"contourcarpet\": [{\"colorbar\": {\"outlinewidth\": 0, \"ticks\": \"\"}, \"type\": \"contourcarpet\"}], \"heatmap\": [{\"colorbar\": {\"outlinewidth\": 0, \"ticks\": \"\"}, \"colorscale\": [[0.0, \"#0d0887\"], [0.1111111111111111, \"#46039f\"], [0.2222222222222222, \"#7201a8\"], [0.3333333333333333, \"#9c179e\"], [0.4444444444444444, \"#bd3786\"], [0.5555555555555556, \"#d8576b\"], [0.6666666666666666, \"#ed7953\"], [0.7777777777777778, \"#fb9f3a\"], [0.8888888888888888, \"#fdca26\"], [1.0, \"#f0f921\"]], \"type\": \"heatmap\"}], \"heatmapgl\": [{\"colorbar\": {\"outlinewidth\": 0, \"ticks\": \"\"}, \"colorscale\": [[0.0, \"#0d0887\"], [0.1111111111111111, \"#46039f\"], [0.2222222222222222, \"#7201a8\"], [0.3333333333333333, \"#9c179e\"], [0.4444444444444444, \"#bd3786\"], [0.5555555555555556, \"#d8576b\"], [0.6666666666666666, \"#ed7953\"], [0.7777777777777778, \"#fb9f3a\"], [0.8888888888888888, \"#fdca26\"], [1.0, \"#f0f921\"]], \"type\": \"heatmapgl\"}], \"histogram\": [{\"marker\": {\"colorbar\": {\"outlinewidth\": 0, \"ticks\": \"\"}}, \"type\": \"histogram\"}], \"histogram2d\": [{\"colorbar\": {\"outlinewidth\": 0, \"ticks\": \"\"}, \"colorscale\": [[0.0, \"#0d0887\"], [0.1111111111111111, \"#46039f\"], [0.2222222222222222, \"#7201a8\"], [0.3333333333333333, \"#9c179e\"], [0.4444444444444444, \"#bd3786\"], [0.5555555555555556, \"#d8576b\"], [0.6666666666666666, \"#ed7953\"], [0.7777777777777778, \"#fb9f3a\"], [0.8888888888888888, \"#fdca26\"], [1.0, \"#f0f921\"]], \"type\": \"histogram2d\"}], \"histogram2dcontour\": [{\"colorbar\": {\"outlinewidth\": 0, \"ticks\": \"\"}, \"colorscale\": [[0.0, \"#0d0887\"], [0.1111111111111111, \"#46039f\"], [0.2222222222222222, \"#7201a8\"], [0.3333333333333333, \"#9c179e\"], [0.4444444444444444, \"#bd3786\"], [0.5555555555555556, \"#d8576b\"], [0.6666666666666666, \"#ed7953\"], [0.7777777777777778, \"#fb9f3a\"], [0.8888888888888888, \"#fdca26\"], [1.0, \"#f0f921\"]], \"type\": \"histogram2dcontour\"}], \"mesh3d\": [{\"colorbar\": {\"outlinewidth\": 0, \"ticks\": \"\"}, \"type\": \"mesh3d\"}], \"parcoords\": [{\"line\": {\"colorbar\": {\"outlinewidth\": 0, \"ticks\": \"\"}}, \"type\": \"parcoords\"}], \"pie\": [{\"automargin\": true, \"type\": \"pie\"}], \"scatter\": [{\"marker\": {\"colorbar\": {\"outlinewidth\": 0, \"ticks\": \"\"}}, \"type\": \"scatter\"}], \"scatter3d\": [{\"line\": {\"colorbar\": {\"outlinewidth\": 0, \"ticks\": \"\"}}, \"marker\": {\"colorbar\": {\"outlinewidth\": 0, \"ticks\": \"\"}}, \"type\": \"scatter3d\"}], \"scattercarpet\": [{\"marker\": {\"colorbar\": {\"outlinewidth\": 0, \"ticks\": \"\"}}, \"type\": \"scattercarpet\"}], \"scattergeo\": [{\"marker\": {\"colorbar\": {\"outlinewidth\": 0, \"ticks\": \"\"}}, \"type\": \"scattergeo\"}], \"scattergl\": [{\"marker\": {\"colorbar\": {\"outlinewidth\": 0, \"ticks\": \"\"}}, \"type\": \"scattergl\"}], \"scattermapbox\": [{\"marker\": {\"colorbar\": {\"outlinewidth\": 0, \"ticks\": \"\"}}, \"type\": \"scattermapbox\"}], \"scatterpolar\": [{\"marker\": {\"colorbar\": {\"outlinewidth\": 0, \"ticks\": \"\"}}, \"type\": \"scatterpolar\"}], \"scatterpolargl\": [{\"marker\": {\"colorbar\": {\"outlinewidth\": 0, \"ticks\": \"\"}}, \"type\": \"scatterpolargl\"}], \"scatterternary\": [{\"marker\": {\"colorbar\": {\"outlinewidth\": 0, \"ticks\": \"\"}}, \"type\": \"scatterternary\"}], \"surface\": [{\"colorbar\": {\"outlinewidth\": 0, \"ticks\": \"\"}, \"colorscale\": [[0.0, \"#0d0887\"], [0.1111111111111111, \"#46039f\"], [0.2222222222222222, \"#7201a8\"], [0.3333333333333333, \"#9c179e\"], [0.4444444444444444, \"#bd3786\"], [0.5555555555555556, \"#d8576b\"], [0.6666666666666666, \"#ed7953\"], [0.7777777777777778, \"#fb9f3a\"], [0.8888888888888888, \"#fdca26\"], [1.0, \"#f0f921\"]], \"type\": \"surface\"}], \"table\": [{\"cells\": {\"fill\": {\"color\": \"#EBF0F8\"}, \"line\": {\"color\": \"white\"}}, \"header\": {\"fill\": {\"color\": \"#C8D4E3\"}, \"line\": {\"color\": \"white\"}}, \"type\": \"table\"}]}, \"layout\": {\"annotationdefaults\": {\"arrowcolor\": \"#2a3f5f\", \"arrowhead\": 0, \"arrowwidth\": 1}, \"autotypenumbers\": \"strict\", \"coloraxis\": {\"colorbar\": {\"outlinewidth\": 0, \"ticks\": \"\"}}, \"colorscale\": {\"diverging\": [[0, \"#8e0152\"], [0.1, \"#c51b7d\"], [0.2, \"#de77ae\"], [0.3, \"#f1b6da\"], [0.4, \"#fde0ef\"], [0.5, \"#f7f7f7\"], [0.6, \"#e6f5d0\"], [0.7, \"#b8e186\"], [0.8, \"#7fbc41\"], [0.9, \"#4d9221\"], [1, \"#276419\"]], \"sequential\": [[0.0, \"#0d0887\"], [0.1111111111111111, \"#46039f\"], [0.2222222222222222, \"#7201a8\"], [0.3333333333333333, \"#9c179e\"], [0.4444444444444444, \"#bd3786\"], [0.5555555555555556, \"#d8576b\"], [0.6666666666666666, \"#ed7953\"], [0.7777777777777778, \"#fb9f3a\"], [0.8888888888888888, \"#fdca26\"], [1.0, \"#f0f921\"]], \"sequentialminus\": [[0.0, \"#0d0887\"], [0.1111111111111111, \"#46039f\"], [0.2222222222222222, \"#7201a8\"], [0.3333333333333333, \"#9c179e\"], [0.4444444444444444, \"#bd3786\"], [0.5555555555555556, \"#d8576b\"], [0.6666666666666666, \"#ed7953\"], [0.7777777777777778, \"#fb9f3a\"], [0.8888888888888888, \"#fdca26\"], [1.0, \"#f0f921\"]]}, \"colorway\": [\"#636efa\", \"#EF553B\", \"#00cc96\", \"#ab63fa\", \"#FFA15A\", \"#19d3f3\", \"#FF6692\", \"#B6E880\", \"#FF97FF\", \"#FECB52\"], \"font\": {\"color\": \"#2a3f5f\"}, \"geo\": {\"bgcolor\": \"white\", \"lakecolor\": \"white\", \"landcolor\": \"#E5ECF6\", \"showlakes\": true, \"showland\": true, \"subunitcolor\": \"white\"}, \"hoverlabel\": {\"align\": \"left\"}, \"hovermode\": \"closest\", \"mapbox\": {\"style\": \"light\"}, \"paper_bgcolor\": \"white\", \"plot_bgcolor\": \"#E5ECF6\", \"polar\": {\"angularaxis\": {\"gridcolor\": \"white\", \"linecolor\": \"white\", \"ticks\": \"\"}, \"bgcolor\": \"#E5ECF6\", \"radialaxis\": {\"gridcolor\": \"white\", \"linecolor\": \"white\", \"ticks\": \"\"}}, \"scene\": {\"xaxis\": {\"backgroundcolor\": \"#E5ECF6\", \"gridcolor\": \"white\", \"gridwidth\": 2, \"linecolor\": \"white\", \"showbackground\": true, \"ticks\": \"\", \"zerolinecolor\": \"white\"}, \"yaxis\": {\"backgroundcolor\": \"#E5ECF6\", \"gridcolor\": \"white\", \"gridwidth\": 2, \"linecolor\": \"white\", \"showbackground\": true, \"ticks\": \"\", \"zerolinecolor\": \"white\"}, \"zaxis\": {\"backgroundcolor\": \"#E5ECF6\", \"gridcolor\": \"white\", \"gridwidth\": 2, \"linecolor\": \"white\", \"showbackground\": true, \"ticks\": \"\", \"zerolinecolor\": \"white\"}}, \"shapedefaults\": {\"line\": {\"color\": \"#2a3f5f\"}}, \"ternary\": {\"aaxis\": {\"gridcolor\": \"white\", \"linecolor\": \"white\", \"ticks\": \"\"}, \"baxis\": {\"gridcolor\": \"white\", \"linecolor\": \"white\", \"ticks\": \"\"}, \"bgcolor\": \"#E5ECF6\", \"caxis\": {\"gridcolor\": \"white\", \"linecolor\": \"white\", \"ticks\": \"\"}}, \"title\": {\"x\": 0.05}, \"xaxis\": {\"automargin\": true, \"gridcolor\": \"white\", \"linecolor\": \"white\", \"ticks\": \"\", \"title\": {\"standoff\": 15}, \"zerolinecolor\": \"white\", \"zerolinewidth\": 2}, \"yaxis\": {\"automargin\": true, \"gridcolor\": \"white\", \"linecolor\": \"white\", \"ticks\": \"\", \"title\": {\"standoff\": 15}, \"zerolinecolor\": \"white\", \"zerolinewidth\": 2}}}, \"title\": {\"text\": \" GDP VS Literacy rate \"}, \"xaxis\": {\"anchor\": \"y\", \"domain\": [0.0, 1.0], \"title\": {\"text\": \"GDP\"}}, \"yaxis\": {\"anchor\": \"x\", \"domain\": [0.0, 1.0], \"title\": {\"text\": \" Literacy rate\"}}},                        {\"responsive\": true}                    ).then(function(){\n                            \nvar gd = document.getElementById('4a417d30-a9ed-41dd-8ae3-2110a43cf26a');\nvar x = new MutationObserver(function (mutations, observer) {{\n        var display = window.getComputedStyle(gd).display;\n        if (!display || display === 'none') {{\n            console.log([gd, 'removed!']);\n            Plotly.purge(gd);\n            observer.disconnect();\n        }}\n}});\n\n// Listen for the removal of the full notebook cells\nvar notebookContainer = gd.closest('#notebook-container');\nif (notebookContainer) {{\n    x.observe(notebookContainer, {childList: true});\n}}\n\n// Listen for the clearing of the current output cell\nvar outputEl = gd.closest('.output');\nif (outputEl) {{\n    x.observe(outputEl, {childList: true});\n}}\n\n                        })                };                            </script>        </div>\n</body>\n</html>"
          },
          "metadata": {},
          "output_type": "display_data"
        }
      ]
    },
    {
      "cell_type": "markdown",
      "source": "From this analysis, The GDP doesn&#39;t seem to be relevant with Literacy rate(15-24 yrs) GPI . So country&#39;s GDP is not dependent on GPI.\n",
      "metadata": {
        "tags": [],
        "cell_id": "00019-cb673b1e-98d2-448e-adc2-cbeb382685ef",
        "deepnote_cell_type": "markdown"
      }
    },
    {
      "cell_type": "markdown",
      "source": "<a style='text-decoration:none;line-height:16px;display:flex;color:#5B5B62;padding:10px;justify-content:end;' href='https://deepnote.com?utm_source=created-in-deepnote-cell&projectId=f415496f-a148-437a-9485-6110d5ba3018' target=\"_blank\">\n<img alt='Created in deepnote.com' style='display:inline;max-height:16px;margin:0px;margin-right:7.5px;' src='data:image/svg+xml;base64,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' > </img>\nCreated in <span style='font-weight:600;margin-left:4px;'>Deepnote</span></a>",
      "metadata": {
        "tags": [],
        "created_in_deepnote_cell": true,
        "deepnote_cell_type": "markdown"
      }
    }
  ],
  "nbformat": 4,
  "nbformat_minor": 2,
  "metadata": {
    "orig_nbformat": 2,
    "deepnote_notebook_id": "4c48ace3-d6bd-4626-afe1-e6b46d53dea7",
    "deepnote": {},
    "deepnote_execution_queue": []
  }
}